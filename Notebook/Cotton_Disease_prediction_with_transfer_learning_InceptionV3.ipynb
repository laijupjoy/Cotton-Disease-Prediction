{
  "nbformat": 4,
  "nbformat_minor": 0,
  "metadata": {
    "kernelspec": {
      "language": "python",
      "display_name": "Python 3",
      "name": "python3"
    },
    "language_info": {
      "pygments_lexer": "ipython3",
      "nbconvert_exporter": "python",
      "version": "3.6.4",
      "file_extension": ".py",
      "codemirror_mode": {
        "name": "ipython",
        "version": 3
      },
      "name": "python",
      "mimetype": "text/x-python"
    },
    "colab": {
      "name": "Cotton_Disease_prediction_with_transfer_learning_InceptionV3.ipynb",
      "provenance": []
    },
    "accelerator": "GPU"
  },
  "cells": [
    {
      "cell_type": "markdown",
      "source": [
        "## Cotton-Disease-Prediction"
      ],
      "metadata": {
        "id": "6TT6FXPKLQrE"
      }
    },
    {
      "cell_type": "markdown",
      "source": [
        "### Transfer Learning Inception V3"
      ],
      "metadata": {
        "id": "xojwRsrhLXMI"
      }
    },
    {
      "cell_type": "markdown",
      "metadata": {
        "id": "OuzNZqmGWjR8"
      },
      "source": [
        "Import the required libraries"
      ]
    },
    {
      "cell_type": "code",
      "metadata": {
        "_uuid": "8f2839f25d086af736a60e9eeb907d3b93b6e0e5",
        "_cell_guid": "b1076dfc-b9ad-4769-8c92-a6c4dae69d19",
        "trusted": true,
        "id": "cdeiyr6OVrsh"
      },
      "source": [
        "# import the libraries as shown below\n",
        "from matplotlib import pyplot\n",
        "import matplotlib.pyplot as plt\n",
        "import os\n",
        "import cv2\n",
        "import numpy as np"
      ],
      "execution_count": 5,
      "outputs": []
    },
    {
      "cell_type": "code",
      "metadata": {
        "colab": {
          "base_uri": "https://localhost:8080/"
        },
        "id": "X0JSwn3sWKjN",
        "outputId": "27c70917-5781-40fb-8b77-efea0fe5dfe9"
      },
      "source": [
        "from google.colab import drive\n",
        "drive.mount('/content/drive')"
      ],
      "execution_count": 4,
      "outputs": [
        {
          "output_type": "stream",
          "name": "stdout",
          "text": [
            "Drive already mounted at /content/drive; to attempt to forcibly remount, call drive.mount(\"/content/drive\", force_remount=True).\n"
          ]
        }
      ]
    },
    {
      "cell_type": "code",
      "metadata": {
        "trusted": true,
        "id": "w2b6vLOlVrsm"
      },
      "source": [
        "from keras.preprocessing.image import img_to_array\n",
        "from sklearn.utils import shuffle\n",
        "from sklearn.model_selection import train_test_split\n",
        "from keras.preprocessing.image import ImageDataGenerator\n",
        "from sklearn.metrics import classification_report, confusion_matrix\n",
        "from keras.preprocessing.image import ImageDataGenerator,load_img"
      ],
      "execution_count": 6,
      "outputs": []
    },
    {
      "cell_type": "code",
      "metadata": {
        "id": "JJ6d3vm3pSUi"
      },
      "source": [
        "#from tensorflow.keras.applications.efficientnet import EfficientNetB5\n",
        "from tensorflow.keras.applications.inception_v3 import InceptionV3\n",
        "from tensorflow.keras.applications.inception_v3 import preprocess_input\n",
        "#from tensorflow.keras.applications.efficientnet import preprocess_input\n",
        "from tensorflow.keras.models import Sequential\n",
        "from tensorflow.keras.layers import Dense, Dropout, Activation, Flatten\n",
        "from tensorflow.keras.layers import Conv2D, MaxPooling2D, ZeroPadding2D\n",
        "from tensorflow.keras.layers import BatchNormalization\n",
        "from tensorflow.keras.models import Model\n",
        "import numpy as np\n",
        "from glob import glob"
      ],
      "execution_count": 7,
      "outputs": []
    },
    {
      "cell_type": "code",
      "metadata": {
        "id": "ZKUwMmPhVg1Q"
      },
      "source": [
        "import seaborn as sns"
      ],
      "execution_count": 8,
      "outputs": []
    },
    {
      "cell_type": "markdown",
      "metadata": {
        "id": "WNaxOfhFWf6s"
      },
      "source": [
        "Loading the data for Visualize the train and test data analysis"
      ]
    },
    {
      "cell_type": "code",
      "metadata": {
        "id": "McceGQgF-mLH"
      },
      "source": [
        "labels = ['diseased cotton leaf', 'diseased cotton plant','fresh cotton leaf','fresh cotton plant']\n",
        "img_size = 224\n",
        "def get_data(data_dir):\n",
        "    data = [] \n",
        "    for label in labels: \n",
        "        path = os.path.join(data_dir, label)\n",
        "        class_num = labels.index(label)\n",
        "        for img in os.listdir(path):\n",
        "            try:\n",
        "                img_arr = cv2.imread(os.path.join(path, img))[...,::-1] #convert BGR to RGB format\n",
        "                resized_arr = cv2.resize(img_arr, (img_size, img_size)) # Reshaping images to preferred size\n",
        "                data.append([resized_arr, class_num])\n",
        "            except Exception as e:\n",
        "                print(e)\n",
        "    return np.array(data)"
      ],
      "execution_count": 9,
      "outputs": []
    },
    {
      "cell_type": "code",
      "metadata": {
        "id": "nxH1zd6vV96U",
        "colab": {
          "base_uri": "https://localhost:8080/"
        },
        "outputId": "701db91a-18e2-482c-d5f2-bf5c621bfba3"
      },
      "source": [
        "#Now we can easily fetch our train and validation data.\n",
        "train_path = get_data('/content/drive/MyDrive/Cotton Disease Dataset/train')\n",
        "test_path = get_data('/content/drive/MyDrive/Cotton Disease Dataset/test')"
      ],
      "execution_count": 10,
      "outputs": [
        {
          "output_type": "stream",
          "name": "stderr",
          "text": [
            "/usr/local/lib/python3.7/dist-packages/ipykernel_launcher.py:15: VisibleDeprecationWarning: Creating an ndarray from ragged nested sequences (which is a list-or-tuple of lists-or-tuples-or ndarrays with different lengths or shapes) is deprecated. If you meant to do this, you must specify 'dtype=object' when creating the ndarray.\n",
            "  from ipykernel import kernelapp as app\n"
          ]
        }
      ]
    },
    {
      "cell_type": "markdown",
      "metadata": {
        "id": "uoOnOqamWwvU"
      },
      "source": [
        "Visualize the train data analysis"
      ]
    },
    {
      "cell_type": "code",
      "metadata": {
        "id": "xCK4ercaVm5o",
        "colab": {
          "base_uri": "https://localhost:8080/",
          "height": 353
        },
        "outputId": "abde3459-3b78-4f76-edc3-400eb62154d9"
      },
      "source": [
        "l = []\n",
        "for i in train_path:\n",
        "    if(i[1] == 0):\n",
        "        l.append(\"diseased cotton leaf\")\n",
        "    if(i[1] == 1):\n",
        "        l.append(\"diseased cotton plant\")\n",
        "    if(i[1] == 2):\n",
        "        l.append(\"fresh cotton leaf\")\n",
        "    if(i[1] == 3):\n",
        "        l.append(\"fresh cotton plant\")\n",
        "sns.set_style('darkgrid')\n",
        "sns.countplot(l).set_title('Train data')"
      ],
      "execution_count": 11,
      "outputs": [
        {
          "output_type": "stream",
          "name": "stderr",
          "text": [
            "/usr/local/lib/python3.7/dist-packages/seaborn/_decorators.py:43: FutureWarning: Pass the following variable as a keyword arg: x. From version 0.12, the only valid positional argument will be `data`, and passing other arguments without an explicit keyword will result in an error or misinterpretation.\n",
            "  FutureWarning\n"
          ]
        },
        {
          "output_type": "execute_result",
          "data": {
            "text/plain": [
              "Text(0.5, 1.0, 'Train data')"
            ]
          },
          "metadata": {},
          "execution_count": 11
        },
        {
          "output_type": "display_data",
          "data": {
            "text/plain": [
              "<Figure size 432x288 with 1 Axes>"
            ],
            "image/png": "[encoded data removed]"
          },
          "metadata": {}
        }
      ]
    },
    {
      "cell_type": "markdown",
      "metadata": {
        "id": "9gBPTWKKXHsY"
      },
      "source": [
        "Visualize the test data analysis"
      ]
    },
    {
      "cell_type": "code",
      "metadata": {
        "id": "2SGVIAv_Vu0S",
        "colab": {
          "base_uri": "https://localhost:8080/",
          "height": 353
        },
        "outputId": "bfef4e13-5580-46e0-92e2-eaced1308912"
      },
      "source": [
        "l = []\n",
        "for i in train_path:\n",
        "    if(i[1] == 0):\n",
        "        l.append(\"diseased cotton leaf\")\n",
        "    if(i[1] == 1):\n",
        "        l.append(\"diseased cotton plant\")\n",
        "    if(i[1] == 2):\n",
        "        l.append(\"fresh cotton leaf\")\n",
        "    if(i[1] == 3):\n",
        "        l.append(\"fresh cotton plant\")\n",
        "sns.set_style('darkgrid')\n",
        "sns.countplot(l).set_title('Test data')"
      ],
      "execution_count": 12,
      "outputs": [
        {
          "output_type": "stream",
          "name": "stderr",
          "text": [
            "/usr/local/lib/python3.7/dist-packages/seaborn/_decorators.py:43: FutureWarning: Pass the following variable as a keyword arg: x. From version 0.12, the only valid positional argument will be `data`, and passing other arguments without an explicit keyword will result in an error or misinterpretation.\n",
            "  FutureWarning\n"
          ]
        },
        {
          "output_type": "execute_result",
          "data": {
            "text/plain": [
              "Text(0.5, 1.0, 'Test data')"
            ]
          },
          "metadata": {},
          "execution_count": 12
        },
        {
          "output_type": "display_data",
          "data": {
            "text/plain": [
              "<Figure size 432x288 with 1 Axes>"
            ],
            "image/png": "[encoded data removed]"
          },
          "metadata": {}
        }
      ]
    },
    {
      "cell_type": "code",
      "metadata": {
        "trusted": true,
        "id": "vvd1otISVrsn"
      },
      "source": [
        "# re-size all the images to this\n",
        "IMAGE_SIZE = [224, 224]\n",
        "\n",
        "#Now we can easily fetch our train and validation data.\n",
        "train_path = '/content/drive/MyDrive/Cotton Disease Dataset/train'\n",
        "test_path = '/content/drive/MyDrive/Cotton Disease Dataset/test'"
      ],
      "execution_count": 13,
      "outputs": []
    },
    {
      "cell_type": "code",
      "metadata": {
        "trusted": true,
        "id": "_-CMf-ZtVrso"
      },
      "source": [
        "batch_size=32"
      ],
      "execution_count": 14,
      "outputs": []
    },
    {
      "cell_type": "code",
      "metadata": {
        "trusted": true,
        "id": "5_bBhrg5Vrso"
      },
      "source": [
        "# Use the Image Data Generator to import the images from the dataset\n",
        "train_datagen = ImageDataGenerator(rescale=1.0/255.0,\n",
        "                                   horizontal_flip=True,\n",
        "                                   vertical_flip=True,\n",
        "                                   shear_range = 0.2,\n",
        "                                   zoom_range = 0.2,\n",
        "                                   rotation_range=90)\n",
        "\n",
        "test_datagen = ImageDataGenerator(rescale=1.0/255.0)"
      ],
      "execution_count": 15,
      "outputs": []
    },
    {
      "cell_type": "code",
      "metadata": {
        "colab": {
          "base_uri": "https://localhost:8080/"
        },
        "id": "bYaXxSCrZ5jk",
        "outputId": "5b688580-92eb-470c-f29b-111a0473b86e"
      },
      "source": [
        "# Make sure you provide the same target size as initialied for the image size\n",
        "train_generator = train_datagen.flow_from_directory(\n",
        "        train_path,\n",
        "        target_size=(224, 224),\n",
        "        batch_size=batch_size,\n",
        "        class_mode='categorical',\n",
        "        shuffle=True)\n",
        "\n",
        "test_generator = test_datagen.flow_from_directory(\n",
        "        test_path,\n",
        "        target_size=(224, 224),\n",
        "        batch_size=batch_size,\n",
        "        class_mode='categorical',\n",
        "        shuffle=False)"
      ],
      "execution_count": 16,
      "outputs": [
        {
          "output_type": "stream",
          "name": "stdout",
          "text": [
            "Found 1951 images belonging to 4 classes.\n",
            "Found 106 images belonging to 4 classes.\n"
          ]
        }
      ]
    },
    {
      "cell_type": "code",
      "metadata": {
        "id": "AMdSnWWUuz9M"
      },
      "source": [
        "# useful for getting number of output classes\n",
        "folders = glob('/content/drive/MyDrive/Cotton Disease Dataset/train/*')"
      ],
      "execution_count": 17,
      "outputs": []
    },
    {
      "cell_type": "code",
      "metadata": {
        "trusted": true,
        "colab": {
          "base_uri": "https://localhost:8080/"
        },
        "id": "ieABLgCeVrsp",
        "outputId": "34463ae5-9d4d-47bc-a33a-3026e2ec52a4"
      },
      "source": [
        "folders"
      ],
      "execution_count": 18,
      "outputs": [
        {
          "output_type": "execute_result",
          "data": {
            "text/plain": [
              "['/content/drive/MyDrive/Cotton Disease Dataset/train/fresh cotton plant',\n",
              " '/content/drive/MyDrive/Cotton Disease Dataset/train/fresh cotton leaf',\n",
              " '/content/drive/MyDrive/Cotton Disease Dataset/train/diseased cotton plant',\n",
              " '/content/drive/MyDrive/Cotton Disease Dataset/train/diseased cotton leaf']"
            ]
          },
          "metadata": {},
          "execution_count": 18
        }
      ]
    },
    {
      "cell_type": "code",
      "metadata": {
        "colab": {
          "base_uri": "https://localhost:8080/"
        },
        "id": "0TrmSuKzbPGG",
        "outputId": "6987389a-eed0-441e-d563-12e04fde1429"
      },
      "source": [
        "len(folders)"
      ],
      "execution_count": 19,
      "outputs": [
        {
          "output_type": "execute_result",
          "data": {
            "text/plain": [
              "4"
            ]
          },
          "metadata": {},
          "execution_count": 19
        }
      ]
    },
    {
      "cell_type": "code",
      "metadata": {
        "trusted": true,
        "colab": {
          "base_uri": "https://localhost:8080/"
        },
        "id": "n6qsHf1BVrsp",
        "outputId": "23483019-5586-48c7-929b-091d4ec19b60"
      },
      "source": [
        "# Import the Vgg 16 library as shown below and add preprocessing layer to the front of VGG\n",
        "# Here we will be using imagenet weights\n",
        "\n",
        "pre_model = InceptionV3(input_shape=IMAGE_SIZE + [3], weights='imagenet', include_top=False)\n",
        "\n",
        "\n",
        "# don't train existing weights\n",
        "for layer in pre_model.layers:\n",
        "    layer.trainable = False\n",
        "    \n",
        "for (i,layer) in enumerate(pre_model.layers):\n",
        "    print(str(i) + \" \"+ layer.__class__.__name__, layer.trainable)"
      ],
      "execution_count": 20,
      "outputs": [
        {
          "output_type": "stream",
          "name": "stdout",
          "text": [
            "Downloading data from https://storage.googleapis.com/tensorflow/keras-applications/inception_v3/inception_v3_weights_tf_dim_ordering_tf_kernels_notop.h5\n",
            "87916544/87910968 [==============================] - 0s 0us/step\n",
            "87924736/87910968 [==============================] - 0s 0us/step\n",
            "0 InputLayer False\n",
            "1 Conv2D False\n",
            "2 BatchNormalization False\n",
            "3 Activation False\n",
            "4 Conv2D False\n",
            "5 BatchNormalization False\n",
            "6 Activation False\n",
            "7 Conv2D False\n",
            "8 BatchNormalization False\n",
            "9 Activation False\n",
            "10 MaxPooling2D False\n",
            "11 Conv2D False\n",
            "12 BatchNormalization False\n",
            "13 Activation False\n",
            "14 Conv2D False\n",
            "15 BatchNormalization False\n",
            "16 Activation False\n",
            "17 MaxPooling2D False\n",
            "18 Conv2D False\n",
            "19 BatchNormalization False\n",
            "20 Activation False\n",
            "21 Conv2D False\n",
            "22 Conv2D False\n",
            "23 BatchNormalization False\n",
            "24 BatchNormalization False\n",
            "25 Activation False\n",
            "26 Activation False\n",
            "27 AveragePooling2D False\n",
            "28 Conv2D False\n",
            "29 Conv2D False\n",
            "30 Conv2D False\n",
            "31 Conv2D False\n",
            "32 BatchNormalization False\n",
            "33 BatchNormalization False\n",
            "34 BatchNormalization False\n",
            "35 BatchNormalization False\n",
            "36 Activation False\n",
            "37 Activation False\n",
            "38 Activation False\n",
            "39 Activation False\n",
            "40 Concatenate False\n",
            "41 Conv2D False\n",
            "42 BatchNormalization False\n",
            "43 Activation False\n",
            "44 Conv2D False\n",
            "45 Conv2D False\n",
            "46 BatchNormalization False\n",
            "47 BatchNormalization False\n",
            "48 Activation False\n",
            "49 Activation False\n",
            "50 AveragePooling2D False\n",
            "51 Conv2D False\n",
            "52 Conv2D False\n",
            "53 Conv2D False\n",
            "54 Conv2D False\n",
            "55 BatchNormalization False\n",
            "56 BatchNormalization False\n",
            "57 BatchNormalization False\n",
            "58 BatchNormalization False\n",
            "59 Activation False\n",
            "60 Activation False\n",
            "61 Activation False\n",
            "62 Activation False\n",
            "63 Concatenate False\n",
            "64 Conv2D False\n",
            "65 BatchNormalization False\n",
            "66 Activation False\n",
            "67 Conv2D False\n",
            "68 Conv2D False\n",
            "69 BatchNormalization False\n",
            "70 BatchNormalization False\n",
            "71 Activation False\n",
            "72 Activation False\n",
            "73 AveragePooling2D False\n",
            "74 Conv2D False\n",
            "75 Conv2D False\n",
            "76 Conv2D False\n",
            "77 Conv2D False\n",
            "78 BatchNormalization False\n",
            "79 BatchNormalization False\n",
            "80 BatchNormalization False\n",
            "81 BatchNormalization False\n",
            "82 Activation False\n",
            "83 Activation False\n",
            "84 Activation False\n",
            "85 Activation False\n",
            "86 Concatenate False\n",
            "87 Conv2D False\n",
            "88 BatchNormalization False\n",
            "89 Activation False\n",
            "90 Conv2D False\n",
            "91 BatchNormalization False\n",
            "92 Activation False\n",
            "93 Conv2D False\n",
            "94 Conv2D False\n",
            "95 BatchNormalization False\n",
            "96 BatchNormalization False\n",
            "97 Activation False\n",
            "98 Activation False\n",
            "99 MaxPooling2D False\n",
            "100 Concatenate False\n",
            "101 Conv2D False\n",
            "102 BatchNormalization False\n",
            "103 Activation False\n",
            "104 Conv2D False\n",
            "105 BatchNormalization False\n",
            "106 Activation False\n",
            "107 Conv2D False\n",
            "108 Conv2D False\n",
            "109 BatchNormalization False\n",
            "110 BatchNormalization False\n",
            "111 Activation False\n",
            "112 Activation False\n",
            "113 Conv2D False\n",
            "114 Conv2D False\n",
            "115 BatchNormalization False\n",
            "116 BatchNormalization False\n",
            "117 Activation False\n",
            "118 Activation False\n",
            "119 AveragePooling2D False\n",
            "120 Conv2D False\n",
            "121 Conv2D False\n",
            "122 Conv2D False\n",
            "123 Conv2D False\n",
            "124 BatchNormalization False\n",
            "125 BatchNormalization False\n",
            "126 BatchNormalization False\n",
            "127 BatchNormalization False\n",
            "128 Activation False\n",
            "129 Activation False\n",
            "130 Activation False\n",
            "131 Activation False\n",
            "132 Concatenate False\n",
            "133 Conv2D False\n",
            "134 BatchNormalization False\n",
            "135 Activation False\n",
            "136 Conv2D False\n",
            "137 BatchNormalization False\n",
            "138 Activation False\n",
            "139 Conv2D False\n",
            "140 Conv2D False\n",
            "141 BatchNormalization False\n",
            "142 BatchNormalization False\n",
            "143 Activation False\n",
            "144 Activation False\n",
            "145 Conv2D False\n",
            "146 Conv2D False\n",
            "147 BatchNormalization False\n",
            "148 BatchNormalization False\n",
            "149 Activation False\n",
            "150 Activation False\n",
            "151 AveragePooling2D False\n",
            "152 Conv2D False\n",
            "153 Conv2D False\n",
            "154 Conv2D False\n",
            "155 Conv2D False\n",
            "156 BatchNormalization False\n",
            "157 BatchNormalization False\n",
            "158 BatchNormalization False\n",
            "159 BatchNormalization False\n",
            "160 Activation False\n",
            "161 Activation False\n",
            "162 Activation False\n",
            "163 Activation False\n",
            "164 Concatenate False\n",
            "165 Conv2D False\n",
            "166 BatchNormalization False\n",
            "167 Activation False\n",
            "168 Conv2D False\n",
            "169 BatchNormalization False\n",
            "170 Activation False\n",
            "171 Conv2D False\n",
            "172 Conv2D False\n",
            "173 BatchNormalization False\n",
            "174 BatchNormalization False\n",
            "175 Activation False\n",
            "176 Activation False\n",
            "177 Conv2D False\n",
            "178 Conv2D False\n",
            "179 BatchNormalization False\n",
            "180 BatchNormalization False\n",
            "181 Activation False\n",
            "182 Activation False\n",
            "183 AveragePooling2D False\n",
            "184 Conv2D False\n",
            "185 Conv2D False\n",
            "186 Conv2D False\n",
            "187 Conv2D False\n",
            "188 BatchNormalization False\n",
            "189 BatchNormalization False\n",
            "190 BatchNormalization False\n",
            "191 BatchNormalization False\n",
            "192 Activation False\n",
            "193 Activation False\n",
            "194 Activation False\n",
            "195 Activation False\n",
            "196 Concatenate False\n",
            "197 Conv2D False\n",
            "198 BatchNormalization False\n",
            "199 Activation False\n",
            "200 Conv2D False\n",
            "201 BatchNormalization False\n",
            "202 Activation False\n",
            "203 Conv2D False\n",
            "204 Conv2D False\n",
            "205 BatchNormalization False\n",
            "206 BatchNormalization False\n",
            "207 Activation False\n",
            "208 Activation False\n",
            "209 Conv2D False\n",
            "210 Conv2D False\n",
            "211 BatchNormalization False\n",
            "212 BatchNormalization False\n",
            "213 Activation False\n",
            "214 Activation False\n",
            "215 AveragePooling2D False\n",
            "216 Conv2D False\n",
            "217 Conv2D False\n",
            "218 Conv2D False\n",
            "219 Conv2D False\n",
            "220 BatchNormalization False\n",
            "221 BatchNormalization False\n",
            "222 BatchNormalization False\n",
            "223 BatchNormalization False\n",
            "224 Activation False\n",
            "225 Activation False\n",
            "226 Activation False\n",
            "227 Activation False\n",
            "228 Concatenate False\n",
            "229 Conv2D False\n",
            "230 BatchNormalization False\n",
            "231 Activation False\n",
            "232 Conv2D False\n",
            "233 BatchNormalization False\n",
            "234 Activation False\n",
            "235 Conv2D False\n",
            "236 Conv2D False\n",
            "237 BatchNormalization False\n",
            "238 BatchNormalization False\n",
            "239 Activation False\n",
            "240 Activation False\n",
            "241 Conv2D False\n",
            "242 Conv2D False\n",
            "243 BatchNormalization False\n",
            "244 BatchNormalization False\n",
            "245 Activation False\n",
            "246 Activation False\n",
            "247 MaxPooling2D False\n",
            "248 Concatenate False\n",
            "249 Conv2D False\n",
            "250 BatchNormalization False\n",
            "251 Activation False\n",
            "252 Conv2D False\n",
            "253 Conv2D False\n",
            "254 BatchNormalization False\n",
            "255 BatchNormalization False\n",
            "256 Activation False\n",
            "257 Activation False\n",
            "258 Conv2D False\n",
            "259 Conv2D False\n",
            "260 Conv2D False\n",
            "261 Conv2D False\n",
            "262 AveragePooling2D False\n",
            "263 Conv2D False\n",
            "264 BatchNormalization False\n",
            "265 BatchNormalization False\n",
            "266 BatchNormalization False\n",
            "267 BatchNormalization False\n",
            "268 Conv2D False\n",
            "269 BatchNormalization False\n",
            "270 Activation False\n",
            "271 Activation False\n",
            "272 Activation False\n",
            "273 Activation False\n",
            "274 BatchNormalization False\n",
            "275 Activation False\n",
            "276 Concatenate False\n",
            "277 Concatenate False\n",
            "278 Activation False\n",
            "279 Concatenate False\n",
            "280 Conv2D False\n",
            "281 BatchNormalization False\n",
            "282 Activation False\n",
            "283 Conv2D False\n",
            "284 Conv2D False\n",
            "285 BatchNormalization False\n",
            "286 BatchNormalization False\n",
            "287 Activation False\n",
            "288 Activation False\n",
            "289 Conv2D False\n",
            "290 Conv2D False\n",
            "291 Conv2D False\n",
            "292 Conv2D False\n",
            "293 AveragePooling2D False\n",
            "294 Conv2D False\n",
            "295 BatchNormalization False\n",
            "296 BatchNormalization False\n",
            "297 BatchNormalization False\n",
            "298 BatchNormalization False\n",
            "299 Conv2D False\n",
            "300 BatchNormalization False\n",
            "301 Activation False\n",
            "302 Activation False\n",
            "303 Activation False\n",
            "304 Activation False\n",
            "305 BatchNormalization False\n",
            "306 Activation False\n",
            "307 Concatenate False\n",
            "308 Concatenate False\n",
            "309 Activation False\n",
            "310 Concatenate False\n"
          ]
        }
      ]
    },
    {
      "cell_type": "code",
      "metadata": {
        "trusted": true,
        "id": "LKQLUYj1Vrsq"
      },
      "source": [
        "def addTopModel(bottom_model, num_classes, D=512):\n",
        "    top_model = bottom_model.output\n",
        "    top_model = Flatten(name = \"flatten\")(top_model)\n",
        "    top_model = Dense(D, activation = \"relu\")(top_model)\n",
        "    top_model = Dropout(0.4)(top_model)\n",
        "    top_model = Dense(num_classes, activation = \"softmax\")(top_model)\n",
        "    return top_model"
      ],
      "execution_count": 21,
      "outputs": []
    },
    {
      "cell_type": "code",
      "metadata": {
        "trusted": true,
        "colab": {
          "base_uri": "https://localhost:8080/"
        },
        "id": "BZyxYyHCVrsq",
        "outputId": "acb5b598-ef08-4179-e478-71c34533afb8"
      },
      "source": [
        "num_classes = len(folders)\n",
        "FC_Layer = addTopModel(pre_model, num_classes)\n",
        "model = Model(inputs=pre_model.input, outputs=FC_Layer)\n",
        "print(model.summary())"
      ],
      "execution_count": 22,
      "outputs": [
        {
          "output_type": "stream",
          "name": "stdout",
          "text": [
            "Model: \"model\"\n",
            "__________________________________________________________________________________________________\n",
            " Layer (type)                   Output Shape         Param #     Connected to                     \n",
            "==================================================================================================\n",
            " input_1 (InputLayer)           [(None, 224, 224, 3  0           []                               \n",
            "                                )]                                                                \n",
            "                                                                                                  \n",
            " conv2d (Conv2D)                (None, 111, 111, 32  864         ['input_1[0][0]']                \n",
            "                                )                                                                 \n",
            "                                                                                                  \n",
            " batch_normalization (BatchNorm  (None, 111, 111, 32  96         ['conv2d[0][0]']                 \n",
            " alization)                     )                                                                 \n",
            "                                                                                                  \n",
            " activation (Activation)        (None, 111, 111, 32  0           ['batch_normalization[0][0]']    \n",
            "                                )                                                                 \n",
            "                                                                                                  \n",
            " conv2d_1 (Conv2D)              (None, 109, 109, 32  9216        ['activation[0][0]']             \n",
            "                                )                                                                 \n",
            "                                                                                                  \n",
            " batch_normalization_1 (BatchNo  (None, 109, 109, 32  96         ['conv2d_1[0][0]']               \n",
            " rmalization)                   )                                                                 \n",
            "                                                                                                  \n",
            " activation_1 (Activation)      (None, 109, 109, 32  0           ['batch_normalization_1[0][0]']  \n",
            "                                )                                                                 \n",
            "                                                                                                  \n",
            " conv2d_2 (Conv2D)              (None, 109, 109, 64  18432       ['activation_1[0][0]']           \n",
            "                                )                                                                 \n",
            "                                                                                                  \n",
            " batch_normalization_2 (BatchNo  (None, 109, 109, 64  192        ['conv2d_2[0][0]']               \n",
            " rmalization)                   )                                                                 \n",
            "                                                                                                  \n",
            " activation_2 (Activation)      (None, 109, 109, 64  0           ['batch_normalization_2[0][0]']  \n",
            "                                )                                                                 \n",
            "                                                                                                  \n",
            " max_pooling2d (MaxPooling2D)   (None, 54, 54, 64)   0           ['activation_2[0][0]']           \n",
            "                                                                                                  \n",
            " conv2d_3 (Conv2D)              (None, 54, 54, 80)   5120        ['max_pooling2d[0][0]']          \n",
            "                                                                                                  \n",
            " batch_normalization_3 (BatchNo  (None, 54, 54, 80)  240         ['conv2d_3[0][0]']               \n",
            " rmalization)                                                                                     \n",
            "                                                                                                  \n",
            " activation_3 (Activation)      (None, 54, 54, 80)   0           ['batch_normalization_3[0][0]']  \n",
            "                                                                                                  \n",
            " conv2d_4 (Conv2D)              (None, 52, 52, 192)  138240      ['activation_3[0][0]']           \n",
            "                                                                                                  \n",
            " batch_normalization_4 (BatchNo  (None, 52, 52, 192)  576        ['conv2d_4[0][0]']               \n",
            " rmalization)                                                                                     \n",
            "                                                                                                  \n",
            " activation_4 (Activation)      (None, 52, 52, 192)  0           ['batch_normalization_4[0][0]']  \n",
            "                                                                                                  \n",
            " max_pooling2d_1 (MaxPooling2D)  (None, 25, 25, 192)  0          ['activation_4[0][0]']           \n",
            "                                                                                                  \n",
            " conv2d_8 (Conv2D)              (None, 25, 25, 64)   12288       ['max_pooling2d_1[0][0]']        \n",
            "                                                                                                  \n",
            " batch_normalization_8 (BatchNo  (None, 25, 25, 64)  192         ['conv2d_8[0][0]']               \n",
            " rmalization)                                                                                     \n",
            "                                                                                                  \n",
            " activation_8 (Activation)      (None, 25, 25, 64)   0           ['batch_normalization_8[0][0]']  \n",
            "                                                                                                  \n",
            " conv2d_6 (Conv2D)              (None, 25, 25, 48)   9216        ['max_pooling2d_1[0][0]']        \n",
            "                                                                                                  \n",
            " conv2d_9 (Conv2D)              (None, 25, 25, 96)   55296       ['activation_8[0][0]']           \n",
            "                                                                                                  \n",
            " batch_normalization_6 (BatchNo  (None, 25, 25, 48)  144         ['conv2d_6[0][0]']               \n",
            " rmalization)                                                                                     \n",
            "                                                                                                  \n",
            " batch_normalization_9 (BatchNo  (None, 25, 25, 96)  288         ['conv2d_9[0][0]']               \n",
            " rmalization)                                                                                     \n",
            "                                                                                                  \n",
            " activation_6 (Activation)      (None, 25, 25, 48)   0           ['batch_normalization_6[0][0]']  \n",
            "                                                                                                  \n",
            " activation_9 (Activation)      (None, 25, 25, 96)   0           ['batch_normalization_9[0][0]']  \n",
            "                                                                                                  \n",
            " average_pooling2d (AveragePool  (None, 25, 25, 192)  0          ['max_pooling2d_1[0][0]']        \n",
            " ing2D)                                                                                           \n",
            "                                                                                                  \n",
            " conv2d_5 (Conv2D)              (None, 25, 25, 64)   12288       ['max_pooling2d_1[0][0]']        \n",
            "                                                                                                  \n",
            " conv2d_7 (Conv2D)              (None, 25, 25, 64)   76800       ['activation_6[0][0]']           \n",
            "                                                                                                  \n",
            " conv2d_10 (Conv2D)             (None, 25, 25, 96)   82944       ['activation_9[0][0]']           \n",
            "                                                                                                  \n",
            " conv2d_11 (Conv2D)             (None, 25, 25, 32)   6144        ['average_pooling2d[0][0]']      \n",
            "                                                                                                  \n",
            " batch_normalization_5 (BatchNo  (None, 25, 25, 64)  192         ['conv2d_5[0][0]']               \n",
            " rmalization)                                                                                     \n",
            "                                                                                                  \n",
            " batch_normalization_7 (BatchNo  (None, 25, 25, 64)  192         ['conv2d_7[0][0]']               \n",
            " rmalization)                                                                                     \n",
            "                                                                                                  \n",
            " batch_normalization_10 (BatchN  (None, 25, 25, 96)  288         ['conv2d_10[0][0]']              \n",
            " ormalization)                                                                                    \n",
            "                                                                                                  \n",
            " batch_normalization_11 (BatchN  (None, 25, 25, 32)  96          ['conv2d_11[0][0]']              \n",
            " ormalization)                                                                                    \n",
            "                                                                                                  \n",
            " activation_5 (Activation)      (None, 25, 25, 64)   0           ['batch_normalization_5[0][0]']  \n",
            "                                                                                                  \n",
            " activation_7 (Activation)      (None, 25, 25, 64)   0           ['batch_normalization_7[0][0]']  \n",
            "                                                                                                  \n",
            " activation_10 (Activation)     (None, 25, 25, 96)   0           ['batch_normalization_10[0][0]'] \n",
            "                                                                                                  \n",
            " activation_11 (Activation)     (None, 25, 25, 32)   0           ['batch_normalization_11[0][0]'] \n",
            "                                                                                                  \n",
            " mixed0 (Concatenate)           (None, 25, 25, 256)  0           ['activation_5[0][0]',           \n",
            "                                                                  'activation_7[0][0]',           \n",
            "                                                                  'activation_10[0][0]',          \n",
            "                                                                  'activation_11[0][0]']          \n",
            "                                                                                                  \n",
            " conv2d_15 (Conv2D)             (None, 25, 25, 64)   16384       ['mixed0[0][0]']                 \n",
            "                                                                                                  \n",
            " batch_normalization_15 (BatchN  (None, 25, 25, 64)  192         ['conv2d_15[0][0]']              \n",
            " ormalization)                                                                                    \n",
            "                                                                                                  \n",
            " activation_15 (Activation)     (None, 25, 25, 64)   0           ['batch_normalization_15[0][0]'] \n",
            "                                                                                                  \n",
            " conv2d_13 (Conv2D)             (None, 25, 25, 48)   12288       ['mixed0[0][0]']                 \n",
            "                                                                                                  \n",
            " conv2d_16 (Conv2D)             (None, 25, 25, 96)   55296       ['activation_15[0][0]']          \n",
            "                                                                                                  \n",
            " batch_normalization_13 (BatchN  (None, 25, 25, 48)  144         ['conv2d_13[0][0]']              \n",
            " ormalization)                                                                                    \n",
            "                                                                                                  \n",
            " batch_normalization_16 (BatchN  (None, 25, 25, 96)  288         ['conv2d_16[0][0]']              \n",
            " ormalization)                                                                                    \n",
            "                                                                                                  \n",
            " activation_13 (Activation)     (None, 25, 25, 48)   0           ['batch_normalization_13[0][0]'] \n",
            "                                                                                                  \n",
            " activation_16 (Activation)     (None, 25, 25, 96)   0           ['batch_normalization_16[0][0]'] \n",
            "                                                                                                  \n",
            " average_pooling2d_1 (AveragePo  (None, 25, 25, 256)  0          ['mixed0[0][0]']                 \n",
            " oling2D)                                                                                         \n",
            "                                                                                                  \n",
            " conv2d_12 (Conv2D)             (None, 25, 25, 64)   16384       ['mixed0[0][0]']                 \n",
            "                                                                                                  \n",
            " conv2d_14 (Conv2D)             (None, 25, 25, 64)   76800       ['activation_13[0][0]']          \n",
            "                                                                                                  \n",
            " conv2d_17 (Conv2D)             (None, 25, 25, 96)   82944       ['activation_16[0][0]']          \n",
            "                                                                                                  \n",
            " conv2d_18 (Conv2D)             (None, 25, 25, 64)   16384       ['average_pooling2d_1[0][0]']    \n",
            "                                                                                                  \n",
            " batch_normalization_12 (BatchN  (None, 25, 25, 64)  192         ['conv2d_12[0][0]']              \n",
            " ormalization)                                                                                    \n",
            "                                                                                                  \n",
            " batch_normalization_14 (BatchN  (None, 25, 25, 64)  192         ['conv2d_14[0][0]']              \n",
            " ormalization)                                                                                    \n",
            "                                                                                                  \n",
            " batch_normalization_17 (BatchN  (None, 25, 25, 96)  288         ['conv2d_17[0][0]']              \n",
            " ormalization)                                                                                    \n",
            "                                                                                                  \n",
            " batch_normalization_18 (BatchN  (None, 25, 25, 64)  192         ['conv2d_18[0][0]']              \n",
            " ormalization)                                                                                    \n",
            "                                                                                                  \n",
            " activation_12 (Activation)     (None, 25, 25, 64)   0           ['batch_normalization_12[0][0]'] \n",
            "                                                                                                  \n",
            " activation_14 (Activation)     (None, 25, 25, 64)   0           ['batch_normalization_14[0][0]'] \n",
            "                                                                                                  \n",
            " activation_17 (Activation)     (None, 25, 25, 96)   0           ['batch_normalization_17[0][0]'] \n",
            "                                                                                                  \n",
            " activation_18 (Activation)     (None, 25, 25, 64)   0           ['batch_normalization_18[0][0]'] \n",
            "                                                                                                  \n",
            " mixed1 (Concatenate)           (None, 25, 25, 288)  0           ['activation_12[0][0]',          \n",
            "                                                                  'activation_14[0][0]',          \n",
            "                                                                  'activation_17[0][0]',          \n",
            "                                                                  'activation_18[0][0]']          \n",
            "                                                                                                  \n",
            " conv2d_22 (Conv2D)             (None, 25, 25, 64)   18432       ['mixed1[0][0]']                 \n",
            "                                                                                                  \n",
            " batch_normalization_22 (BatchN  (None, 25, 25, 64)  192         ['conv2d_22[0][0]']              \n",
            " ormalization)                                                                                    \n",
            "                                                                                                  \n",
            " activation_22 (Activation)     (None, 25, 25, 64)   0           ['batch_normalization_22[0][0]'] \n",
            "                                                                                                  \n",
            " conv2d_20 (Conv2D)             (None, 25, 25, 48)   13824       ['mixed1[0][0]']                 \n",
            "                                                                                                  \n",
            " conv2d_23 (Conv2D)             (None, 25, 25, 96)   55296       ['activation_22[0][0]']          \n",
            "                                                                                                  \n",
            " batch_normalization_20 (BatchN  (None, 25, 25, 48)  144         ['conv2d_20[0][0]']              \n",
            " ormalization)                                                                                    \n",
            "                                                                                                  \n",
            " batch_normalization_23 (BatchN  (None, 25, 25, 96)  288         ['conv2d_23[0][0]']              \n",
            " ormalization)                                                                                    \n",
            "                                                                                                  \n",
            " activation_20 (Activation)     (None, 25, 25, 48)   0           ['batch_normalization_20[0][0]'] \n",
            "                                                                                                  \n",
            " activation_23 (Activation)     (None, 25, 25, 96)   0           ['batch_normalization_23[0][0]'] \n",
            "                                                                                                  \n",
            " average_pooling2d_2 (AveragePo  (None, 25, 25, 288)  0          ['mixed1[0][0]']                 \n",
            " oling2D)                                                                                         \n",
            "                                                                                                  \n",
            " conv2d_19 (Conv2D)             (None, 25, 25, 64)   18432       ['mixed1[0][0]']                 \n",
            "                                                                                                  \n",
            " conv2d_21 (Conv2D)             (None, 25, 25, 64)   76800       ['activation_20[0][0]']          \n",
            "                                                                                                  \n",
            " conv2d_24 (Conv2D)             (None, 25, 25, 96)   82944       ['activation_23[0][0]']          \n",
            "                                                                                                  \n",
            " conv2d_25 (Conv2D)             (None, 25, 25, 64)   18432       ['average_pooling2d_2[0][0]']    \n",
            "                                                                                                  \n",
            " batch_normalization_19 (BatchN  (None, 25, 25, 64)  192         ['conv2d_19[0][0]']              \n",
            " ormalization)                                                                                    \n",
            "                                                                                                  \n",
            " batch_normalization_21 (BatchN  (None, 25, 25, 64)  192         ['conv2d_21[0][0]']              \n",
            " ormalization)                                                                                    \n",
            "                                                                                                  \n",
            " batch_normalization_24 (BatchN  (None, 25, 25, 96)  288         ['conv2d_24[0][0]']              \n",
            " ormalization)                                                                                    \n",
            "                                                                                                  \n",
            " batch_normalization_25 (BatchN  (None, 25, 25, 64)  192         ['conv2d_25[0][0]']              \n",
            " ormalization)                                                                                    \n",
            "                                                                                                  \n",
            " activation_19 (Activation)     (None, 25, 25, 64)   0           ['batch_normalization_19[0][0]'] \n",
            "                                                                                                  \n",
            " activation_21 (Activation)     (None, 25, 25, 64)   0           ['batch_normalization_21[0][0]'] \n",
            "                                                                                                  \n",
            " activation_24 (Activation)     (None, 25, 25, 96)   0           ['batch_normalization_24[0][0]'] \n",
            "                                                                                                  \n",
            " activation_25 (Activation)     (None, 25, 25, 64)   0           ['batch_normalization_25[0][0]'] \n",
            "                                                                                                  \n",
            " mixed2 (Concatenate)           (None, 25, 25, 288)  0           ['activation_19[0][0]',          \n",
            "                                                                  'activation_21[0][0]',          \n",
            "                                                                  'activation_24[0][0]',          \n",
            "                                                                  'activation_25[0][0]']          \n",
            "                                                                                                  \n",
            " conv2d_27 (Conv2D)             (None, 25, 25, 64)   18432       ['mixed2[0][0]']                 \n",
            "                                                                                                  \n",
            " batch_normalization_27 (BatchN  (None, 25, 25, 64)  192         ['conv2d_27[0][0]']              \n",
            " ormalization)                                                                                    \n",
            "                                                                                                  \n",
            " activation_27 (Activation)     (None, 25, 25, 64)   0           ['batch_normalization_27[0][0]'] \n",
            "                                                                                                  \n",
            " conv2d_28 (Conv2D)             (None, 25, 25, 96)   55296       ['activation_27[0][0]']          \n",
            "                                                                                                  \n",
            " batch_normalization_28 (BatchN  (None, 25, 25, 96)  288         ['conv2d_28[0][0]']              \n",
            " ormalization)                                                                                    \n",
            "                                                                                                  \n",
            " activation_28 (Activation)     (None, 25, 25, 96)   0           ['batch_normalization_28[0][0]'] \n",
            "                                                                                                  \n",
            " conv2d_26 (Conv2D)             (None, 12, 12, 384)  995328      ['mixed2[0][0]']                 \n",
            "                                                                                                  \n",
            " conv2d_29 (Conv2D)             (None, 12, 12, 96)   82944       ['activation_28[0][0]']          \n",
            "                                                                                                  \n",
            " batch_normalization_26 (BatchN  (None, 12, 12, 384)  1152       ['conv2d_26[0][0]']              \n",
            " ormalization)                                                                                    \n",
            "                                                                                                  \n",
            " batch_normalization_29 (BatchN  (None, 12, 12, 96)  288         ['conv2d_29[0][0]']              \n",
            " ormalization)                                                                                    \n",
            "                                                                                                  \n",
            " activation_26 (Activation)     (None, 12, 12, 384)  0           ['batch_normalization_26[0][0]'] \n",
            "                                                                                                  \n",
            " activation_29 (Activation)     (None, 12, 12, 96)   0           ['batch_normalization_29[0][0]'] \n",
            "                                                                                                  \n",
            " max_pooling2d_2 (MaxPooling2D)  (None, 12, 12, 288)  0          ['mixed2[0][0]']                 \n",
            "                                                                                                  \n",
            " mixed3 (Concatenate)           (None, 12, 12, 768)  0           ['activation_26[0][0]',          \n",
            "                                                                  'activation_29[0][0]',          \n",
            "                                                                  'max_pooling2d_2[0][0]']        \n",
            "                                                                                                  \n",
            " conv2d_34 (Conv2D)             (None, 12, 12, 128)  98304       ['mixed3[0][0]']                 \n",
            "                                                                                                  \n",
            " batch_normalization_34 (BatchN  (None, 12, 12, 128)  384        ['conv2d_34[0][0]']              \n",
            " ormalization)                                                                                    \n",
            "                                                                                                  \n",
            " activation_34 (Activation)     (None, 12, 12, 128)  0           ['batch_normalization_34[0][0]'] \n",
            "                                                                                                  \n",
            " conv2d_35 (Conv2D)             (None, 12, 12, 128)  114688      ['activation_34[0][0]']          \n",
            "                                                                                                  \n",
            " batch_normalization_35 (BatchN  (None, 12, 12, 128)  384        ['conv2d_35[0][0]']              \n",
            " ormalization)                                                                                    \n",
            "                                                                                                  \n",
            " activation_35 (Activation)     (None, 12, 12, 128)  0           ['batch_normalization_35[0][0]'] \n",
            "                                                                                                  \n",
            " conv2d_31 (Conv2D)             (None, 12, 12, 128)  98304       ['mixed3[0][0]']                 \n",
            "                                                                                                  \n",
            " conv2d_36 (Conv2D)             (None, 12, 12, 128)  114688      ['activation_35[0][0]']          \n",
            "                                                                                                  \n",
            " batch_normalization_31 (BatchN  (None, 12, 12, 128)  384        ['conv2d_31[0][0]']              \n",
            " ormalization)                                                                                    \n",
            "                                                                                                  \n",
            " batch_normalization_36 (BatchN  (None, 12, 12, 128)  384        ['conv2d_36[0][0]']              \n",
            " ormalization)                                                                                    \n",
            "                                                                                                  \n",
            " activation_31 (Activation)     (None, 12, 12, 128)  0           ['batch_normalization_31[0][0]'] \n",
            "                                                                                                  \n",
            " activation_36 (Activation)     (None, 12, 12, 128)  0           ['batch_normalization_36[0][0]'] \n",
            "                                                                                                  \n",
            " conv2d_32 (Conv2D)             (None, 12, 12, 128)  114688      ['activation_31[0][0]']          \n",
            "                                                                                                  \n",
            " conv2d_37 (Conv2D)             (None, 12, 12, 128)  114688      ['activation_36[0][0]']          \n",
            "                                                                                                  \n",
            " batch_normalization_32 (BatchN  (None, 12, 12, 128)  384        ['conv2d_32[0][0]']              \n",
            " ormalization)                                                                                    \n",
            "                                                                                                  \n",
            " batch_normalization_37 (BatchN  (None, 12, 12, 128)  384        ['conv2d_37[0][0]']              \n",
            " ormalization)                                                                                    \n",
            "                                                                                                  \n",
            " activation_32 (Activation)     (None, 12, 12, 128)  0           ['batch_normalization_32[0][0]'] \n",
            "                                                                                                  \n",
            " activation_37 (Activation)     (None, 12, 12, 128)  0           ['batch_normalization_37[0][0]'] \n",
            "                                                                                                  \n",
            " average_pooling2d_3 (AveragePo  (None, 12, 12, 768)  0          ['mixed3[0][0]']                 \n",
            " oling2D)                                                                                         \n",
            "                                                                                                  \n",
            " conv2d_30 (Conv2D)             (None, 12, 12, 192)  147456      ['mixed3[0][0]']                 \n",
            "                                                                                                  \n",
            " conv2d_33 (Conv2D)             (None, 12, 12, 192)  172032      ['activation_32[0][0]']          \n",
            "                                                                                                  \n",
            " conv2d_38 (Conv2D)             (None, 12, 12, 192)  172032      ['activation_37[0][0]']          \n",
            "                                                                                                  \n",
            " conv2d_39 (Conv2D)             (None, 12, 12, 192)  147456      ['average_pooling2d_3[0][0]']    \n",
            "                                                                                                  \n",
            " batch_normalization_30 (BatchN  (None, 12, 12, 192)  576        ['conv2d_30[0][0]']              \n",
            " ormalization)                                                                                    \n",
            "                                                                                                  \n",
            " batch_normalization_33 (BatchN  (None, 12, 12, 192)  576        ['conv2d_33[0][0]']              \n",
            " ormalization)                                                                                    \n",
            "                                                                                                  \n",
            " batch_normalization_38 (BatchN  (None, 12, 12, 192)  576        ['conv2d_38[0][0]']              \n",
            " ormalization)                                                                                    \n",
            "                                                                                                  \n",
            " batch_normalization_39 (BatchN  (None, 12, 12, 192)  576        ['conv2d_39[0][0]']              \n",
            " ormalization)                                                                                    \n",
            "                                                                                                  \n",
            " activation_30 (Activation)     (None, 12, 12, 192)  0           ['batch_normalization_30[0][0]'] \n",
            "                                                                                                  \n",
            " activation_33 (Activation)     (None, 12, 12, 192)  0           ['batch_normalization_33[0][0]'] \n",
            "                                                                                                  \n",
            " activation_38 (Activation)     (None, 12, 12, 192)  0           ['batch_normalization_38[0][0]'] \n",
            "                                                                                                  \n",
            " activation_39 (Activation)     (None, 12, 12, 192)  0           ['batch_normalization_39[0][0]'] \n",
            "                                                                                                  \n",
            " mixed4 (Concatenate)           (None, 12, 12, 768)  0           ['activation_30[0][0]',          \n",
            "                                                                  'activation_33[0][0]',          \n",
            "                                                                  'activation_38[0][0]',          \n",
            "                                                                  'activation_39[0][0]']          \n",
            "                                                                                                  \n",
            " conv2d_44 (Conv2D)             (None, 12, 12, 160)  122880      ['mixed4[0][0]']                 \n",
            "                                                                                                  \n",
            " batch_normalization_44 (BatchN  (None, 12, 12, 160)  480        ['conv2d_44[0][0]']              \n",
            " ormalization)                                                                                    \n",
            "                                                                                                  \n",
            " activation_44 (Activation)     (None, 12, 12, 160)  0           ['batch_normalization_44[0][0]'] \n",
            "                                                                                                  \n",
            " conv2d_45 (Conv2D)             (None, 12, 12, 160)  179200      ['activation_44[0][0]']          \n",
            "                                                                                                  \n",
            " batch_normalization_45 (BatchN  (None, 12, 12, 160)  480        ['conv2d_45[0][0]']              \n",
            " ormalization)                                                                                    \n",
            "                                                                                                  \n",
            " activation_45 (Activation)     (None, 12, 12, 160)  0           ['batch_normalization_45[0][0]'] \n",
            "                                                                                                  \n",
            " conv2d_41 (Conv2D)             (None, 12, 12, 160)  122880      ['mixed4[0][0]']                 \n",
            "                                                                                                  \n",
            " conv2d_46 (Conv2D)             (None, 12, 12, 160)  179200      ['activation_45[0][0]']          \n",
            "                                                                                                  \n",
            " batch_normalization_41 (BatchN  (None, 12, 12, 160)  480        ['conv2d_41[0][0]']              \n",
            " ormalization)                                                                                    \n",
            "                                                                                                  \n",
            " batch_normalization_46 (BatchN  (None, 12, 12, 160)  480        ['conv2d_46[0][0]']              \n",
            " ormalization)                                                                                    \n",
            "                                                                                                  \n",
            " activation_41 (Activation)     (None, 12, 12, 160)  0           ['batch_normalization_41[0][0]'] \n",
            "                                                                                                  \n",
            " activation_46 (Activation)     (None, 12, 12, 160)  0           ['batch_normalization_46[0][0]'] \n",
            "                                                                                                  \n",
            " conv2d_42 (Conv2D)             (None, 12, 12, 160)  179200      ['activation_41[0][0]']          \n",
            "                                                                                                  \n",
            " conv2d_47 (Conv2D)             (None, 12, 12, 160)  179200      ['activation_46[0][0]']          \n",
            "                                                                                                  \n",
            " batch_normalization_42 (BatchN  (None, 12, 12, 160)  480        ['conv2d_42[0][0]']              \n",
            " ormalization)                                                                                    \n",
            "                                                                                                  \n",
            " batch_normalization_47 (BatchN  (None, 12, 12, 160)  480        ['conv2d_47[0][0]']              \n",
            " ormalization)                                                                                    \n",
            "                                                                                                  \n",
            " activation_42 (Activation)     (None, 12, 12, 160)  0           ['batch_normalization_42[0][0]'] \n",
            "                                                                                                  \n",
            " activation_47 (Activation)     (None, 12, 12, 160)  0           ['batch_normalization_47[0][0]'] \n",
            "                                                                                                  \n",
            " average_pooling2d_4 (AveragePo  (None, 12, 12, 768)  0          ['mixed4[0][0]']                 \n",
            " oling2D)                                                                                         \n",
            "                                                                                                  \n",
            " conv2d_40 (Conv2D)             (None, 12, 12, 192)  147456      ['mixed4[0][0]']                 \n",
            "                                                                                                  \n",
            " conv2d_43 (Conv2D)             (None, 12, 12, 192)  215040      ['activation_42[0][0]']          \n",
            "                                                                                                  \n",
            " conv2d_48 (Conv2D)             (None, 12, 12, 192)  215040      ['activation_47[0][0]']          \n",
            "                                                                                                  \n",
            " conv2d_49 (Conv2D)             (None, 12, 12, 192)  147456      ['average_pooling2d_4[0][0]']    \n",
            "                                                                                                  \n",
            " batch_normalization_40 (BatchN  (None, 12, 12, 192)  576        ['conv2d_40[0][0]']              \n",
            " ormalization)                                                                                    \n",
            "                                                                                                  \n",
            " batch_normalization_43 (BatchN  (None, 12, 12, 192)  576        ['conv2d_43[0][0]']              \n",
            " ormalization)                                                                                    \n",
            "                                                                                                  \n",
            " batch_normalization_48 (BatchN  (None, 12, 12, 192)  576        ['conv2d_48[0][0]']              \n",
            " ormalization)                                                                                    \n",
            "                                                                                                  \n",
            " batch_normalization_49 (BatchN  (None, 12, 12, 192)  576        ['conv2d_49[0][0]']              \n",
            " ormalization)                                                                                    \n",
            "                                                                                                  \n",
            " activation_40 (Activation)     (None, 12, 12, 192)  0           ['batch_normalization_40[0][0]'] \n",
            "                                                                                                  \n",
            " activation_43 (Activation)     (None, 12, 12, 192)  0           ['batch_normalization_43[0][0]'] \n",
            "                                                                                                  \n",
            " activation_48 (Activation)     (None, 12, 12, 192)  0           ['batch_normalization_48[0][0]'] \n",
            "                                                                                                  \n",
            " activation_49 (Activation)     (None, 12, 12, 192)  0           ['batch_normalization_49[0][0]'] \n",
            "                                                                                                  \n",
            " mixed5 (Concatenate)           (None, 12, 12, 768)  0           ['activation_40[0][0]',          \n",
            "                                                                  'activation_43[0][0]',          \n",
            "                                                                  'activation_48[0][0]',          \n",
            "                                                                  'activation_49[0][0]']          \n",
            "                                                                                                  \n",
            " conv2d_54 (Conv2D)             (None, 12, 12, 160)  122880      ['mixed5[0][0]']                 \n",
            "                                                                                                  \n",
            " batch_normalization_54 (BatchN  (None, 12, 12, 160)  480        ['conv2d_54[0][0]']              \n",
            " ormalization)                                                                                    \n",
            "                                                                                                  \n",
            " activation_54 (Activation)     (None, 12, 12, 160)  0           ['batch_normalization_54[0][0]'] \n",
            "                                                                                                  \n",
            " conv2d_55 (Conv2D)             (None, 12, 12, 160)  179200      ['activation_54[0][0]']          \n",
            "                                                                                                  \n",
            " batch_normalization_55 (BatchN  (None, 12, 12, 160)  480        ['conv2d_55[0][0]']              \n",
            " ormalization)                                                                                    \n",
            "                                                                                                  \n",
            " activation_55 (Activation)     (None, 12, 12, 160)  0           ['batch_normalization_55[0][0]'] \n",
            "                                                                                                  \n",
            " conv2d_51 (Conv2D)             (None, 12, 12, 160)  122880      ['mixed5[0][0]']                 \n",
            "                                                                                                  \n",
            " conv2d_56 (Conv2D)             (None, 12, 12, 160)  179200      ['activation_55[0][0]']          \n",
            "                                                                                                  \n",
            " batch_normalization_51 (BatchN  (None, 12, 12, 160)  480        ['conv2d_51[0][0]']              \n",
            " ormalization)                                                                                    \n",
            "                                                                                                  \n",
            " batch_normalization_56 (BatchN  (None, 12, 12, 160)  480        ['conv2d_56[0][0]']              \n",
            " ormalization)                                                                                    \n",
            "                                                                                                  \n",
            " activation_51 (Activation)     (None, 12, 12, 160)  0           ['batch_normalization_51[0][0]'] \n",
            "                                                                                                  \n",
            " activation_56 (Activation)     (None, 12, 12, 160)  0           ['batch_normalization_56[0][0]'] \n",
            "                                                                                                  \n",
            " conv2d_52 (Conv2D)             (None, 12, 12, 160)  179200      ['activation_51[0][0]']          \n",
            "                                                                                                  \n",
            " conv2d_57 (Conv2D)             (None, 12, 12, 160)  179200      ['activation_56[0][0]']          \n",
            "                                                                                                  \n",
            " batch_normalization_52 (BatchN  (None, 12, 12, 160)  480        ['conv2d_52[0][0]']              \n",
            " ormalization)                                                                                    \n",
            "                                                                                                  \n",
            " batch_normalization_57 (BatchN  (None, 12, 12, 160)  480        ['conv2d_57[0][0]']              \n",
            " ormalization)                                                                                    \n",
            "                                                                                                  \n",
            " activation_52 (Activation)     (None, 12, 12, 160)  0           ['batch_normalization_52[0][0]'] \n",
            "                                                                                                  \n",
            " activation_57 (Activation)     (None, 12, 12, 160)  0           ['batch_normalization_57[0][0]'] \n",
            "                                                                                                  \n",
            " average_pooling2d_5 (AveragePo  (None, 12, 12, 768)  0          ['mixed5[0][0]']                 \n",
            " oling2D)                                                                                         \n",
            "                                                                                                  \n",
            " conv2d_50 (Conv2D)             (None, 12, 12, 192)  147456      ['mixed5[0][0]']                 \n",
            "                                                                                                  \n",
            " conv2d_53 (Conv2D)             (None, 12, 12, 192)  215040      ['activation_52[0][0]']          \n",
            "                                                                                                  \n",
            " conv2d_58 (Conv2D)             (None, 12, 12, 192)  215040      ['activation_57[0][0]']          \n",
            "                                                                                                  \n",
            " conv2d_59 (Conv2D)             (None, 12, 12, 192)  147456      ['average_pooling2d_5[0][0]']    \n",
            "                                                                                                  \n",
            " batch_normalization_50 (BatchN  (None, 12, 12, 192)  576        ['conv2d_50[0][0]']              \n",
            " ormalization)                                                                                    \n",
            "                                                                                                  \n",
            " batch_normalization_53 (BatchN  (None, 12, 12, 192)  576        ['conv2d_53[0][0]']              \n",
            " ormalization)                                                                                    \n",
            "                                                                                                  \n",
            " batch_normalization_58 (BatchN  (None, 12, 12, 192)  576        ['conv2d_58[0][0]']              \n",
            " ormalization)                                                                                    \n",
            "                                                                                                  \n",
            " batch_normalization_59 (BatchN  (None, 12, 12, 192)  576        ['conv2d_59[0][0]']              \n",
            " ormalization)                                                                                    \n",
            "                                                                                                  \n",
            " activation_50 (Activation)     (None, 12, 12, 192)  0           ['batch_normalization_50[0][0]'] \n",
            "                                                                                                  \n",
            " activation_53 (Activation)     (None, 12, 12, 192)  0           ['batch_normalization_53[0][0]'] \n",
            "                                                                                                  \n",
            " activation_58 (Activation)     (None, 12, 12, 192)  0           ['batch_normalization_58[0][0]'] \n",
            "                                                                                                  \n",
            " activation_59 (Activation)     (None, 12, 12, 192)  0           ['batch_normalization_59[0][0]'] \n",
            "                                                                                                  \n",
            " mixed6 (Concatenate)           (None, 12, 12, 768)  0           ['activation_50[0][0]',          \n",
            "                                                                  'activation_53[0][0]',          \n",
            "                                                                  'activation_58[0][0]',          \n",
            "                                                                  'activation_59[0][0]']          \n",
            "                                                                                                  \n",
            " conv2d_64 (Conv2D)             (None, 12, 12, 192)  147456      ['mixed6[0][0]']                 \n",
            "                                                                                                  \n",
            " batch_normalization_64 (BatchN  (None, 12, 12, 192)  576        ['conv2d_64[0][0]']              \n",
            " ormalization)                                                                                    \n",
            "                                                                                                  \n",
            " activation_64 (Activation)     (None, 12, 12, 192)  0           ['batch_normalization_64[0][0]'] \n",
            "                                                                                                  \n",
            " conv2d_65 (Conv2D)             (None, 12, 12, 192)  258048      ['activation_64[0][0]']          \n",
            "                                                                                                  \n",
            " batch_normalization_65 (BatchN  (None, 12, 12, 192)  576        ['conv2d_65[0][0]']              \n",
            " ormalization)                                                                                    \n",
            "                                                                                                  \n",
            " activation_65 (Activation)     (None, 12, 12, 192)  0           ['batch_normalization_65[0][0]'] \n",
            "                                                                                                  \n",
            " conv2d_61 (Conv2D)             (None, 12, 12, 192)  147456      ['mixed6[0][0]']                 \n",
            "                                                                                                  \n",
            " conv2d_66 (Conv2D)             (None, 12, 12, 192)  258048      ['activation_65[0][0]']          \n",
            "                                                                                                  \n",
            " batch_normalization_61 (BatchN  (None, 12, 12, 192)  576        ['conv2d_61[0][0]']              \n",
            " ormalization)                                                                                    \n",
            "                                                                                                  \n",
            " batch_normalization_66 (BatchN  (None, 12, 12, 192)  576        ['conv2d_66[0][0]']              \n",
            " ormalization)                                                                                    \n",
            "                                                                                                  \n",
            " activation_61 (Activation)     (None, 12, 12, 192)  0           ['batch_normalization_61[0][0]'] \n",
            "                                                                                                  \n",
            " activation_66 (Activation)     (None, 12, 12, 192)  0           ['batch_normalization_66[0][0]'] \n",
            "                                                                                                  \n",
            " conv2d_62 (Conv2D)             (None, 12, 12, 192)  258048      ['activation_61[0][0]']          \n",
            "                                                                                                  \n",
            " conv2d_67 (Conv2D)             (None, 12, 12, 192)  258048      ['activation_66[0][0]']          \n",
            "                                                                                                  \n",
            " batch_normalization_62 (BatchN  (None, 12, 12, 192)  576        ['conv2d_62[0][0]']              \n",
            " ormalization)                                                                                    \n",
            "                                                                                                  \n",
            " batch_normalization_67 (BatchN  (None, 12, 12, 192)  576        ['conv2d_67[0][0]']              \n",
            " ormalization)                                                                                    \n",
            "                                                                                                  \n",
            " activation_62 (Activation)     (None, 12, 12, 192)  0           ['batch_normalization_62[0][0]'] \n",
            "                                                                                                  \n",
            " activation_67 (Activation)     (None, 12, 12, 192)  0           ['batch_normalization_67[0][0]'] \n",
            "                                                                                                  \n",
            " average_pooling2d_6 (AveragePo  (None, 12, 12, 768)  0          ['mixed6[0][0]']                 \n",
            " oling2D)                                                                                         \n",
            "                                                                                                  \n",
            " conv2d_60 (Conv2D)             (None, 12, 12, 192)  147456      ['mixed6[0][0]']                 \n",
            "                                                                                                  \n",
            " conv2d_63 (Conv2D)             (None, 12, 12, 192)  258048      ['activation_62[0][0]']          \n",
            "                                                                                                  \n",
            " conv2d_68 (Conv2D)             (None, 12, 12, 192)  258048      ['activation_67[0][0]']          \n",
            "                                                                                                  \n",
            " conv2d_69 (Conv2D)             (None, 12, 12, 192)  147456      ['average_pooling2d_6[0][0]']    \n",
            "                                                                                                  \n",
            " batch_normalization_60 (BatchN  (None, 12, 12, 192)  576        ['conv2d_60[0][0]']              \n",
            " ormalization)                                                                                    \n",
            "                                                                                                  \n",
            " batch_normalization_63 (BatchN  (None, 12, 12, 192)  576        ['conv2d_63[0][0]']              \n",
            " ormalization)                                                                                    \n",
            "                                                                                                  \n",
            " batch_normalization_68 (BatchN  (None, 12, 12, 192)  576        ['conv2d_68[0][0]']              \n",
            " ormalization)                                                                                    \n",
            "                                                                                                  \n",
            " batch_normalization_69 (BatchN  (None, 12, 12, 192)  576        ['conv2d_69[0][0]']              \n",
            " ormalization)                                                                                    \n",
            "                                                                                                  \n",
            " activation_60 (Activation)     (None, 12, 12, 192)  0           ['batch_normalization_60[0][0]'] \n",
            "                                                                                                  \n",
            " activation_63 (Activation)     (None, 12, 12, 192)  0           ['batch_normalization_63[0][0]'] \n",
            "                                                                                                  \n",
            " activation_68 (Activation)     (None, 12, 12, 192)  0           ['batch_normalization_68[0][0]'] \n",
            "                                                                                                  \n",
            " activation_69 (Activation)     (None, 12, 12, 192)  0           ['batch_normalization_69[0][0]'] \n",
            "                                                                                                  \n",
            " mixed7 (Concatenate)           (None, 12, 12, 768)  0           ['activation_60[0][0]',          \n",
            "                                                                  'activation_63[0][0]',          \n",
            "                                                                  'activation_68[0][0]',          \n",
            "                                                                  'activation_69[0][0]']          \n",
            "                                                                                                  \n",
            " conv2d_72 (Conv2D)             (None, 12, 12, 192)  147456      ['mixed7[0][0]']                 \n",
            "                                                                                                  \n",
            " batch_normalization_72 (BatchN  (None, 12, 12, 192)  576        ['conv2d_72[0][0]']              \n",
            " ormalization)                                                                                    \n",
            "                                                                                                  \n",
            " activation_72 (Activation)     (None, 12, 12, 192)  0           ['batch_normalization_72[0][0]'] \n",
            "                                                                                                  \n",
            " conv2d_73 (Conv2D)             (None, 12, 12, 192)  258048      ['activation_72[0][0]']          \n",
            "                                                                                                  \n",
            " batch_normalization_73 (BatchN  (None, 12, 12, 192)  576        ['conv2d_73[0][0]']              \n",
            " ormalization)                                                                                    \n",
            "                                                                                                  \n",
            " activation_73 (Activation)     (None, 12, 12, 192)  0           ['batch_normalization_73[0][0]'] \n",
            "                                                                                                  \n",
            " conv2d_70 (Conv2D)             (None, 12, 12, 192)  147456      ['mixed7[0][0]']                 \n",
            "                                                                                                  \n",
            " conv2d_74 (Conv2D)             (None, 12, 12, 192)  258048      ['activation_73[0][0]']          \n",
            "                                                                                                  \n",
            " batch_normalization_70 (BatchN  (None, 12, 12, 192)  576        ['conv2d_70[0][0]']              \n",
            " ormalization)                                                                                    \n",
            "                                                                                                  \n",
            " batch_normalization_74 (BatchN  (None, 12, 12, 192)  576        ['conv2d_74[0][0]']              \n",
            " ormalization)                                                                                    \n",
            "                                                                                                  \n",
            " activation_70 (Activation)     (None, 12, 12, 192)  0           ['batch_normalization_70[0][0]'] \n",
            "                                                                                                  \n",
            " activation_74 (Activation)     (None, 12, 12, 192)  0           ['batch_normalization_74[0][0]'] \n",
            "                                                                                                  \n",
            " conv2d_71 (Conv2D)             (None, 5, 5, 320)    552960      ['activation_70[0][0]']          \n",
            "                                                                                                  \n",
            " conv2d_75 (Conv2D)             (None, 5, 5, 192)    331776      ['activation_74[0][0]']          \n",
            "                                                                                                  \n",
            " batch_normalization_71 (BatchN  (None, 5, 5, 320)   960         ['conv2d_71[0][0]']              \n",
            " ormalization)                                                                                    \n",
            "                                                                                                  \n",
            " batch_normalization_75 (BatchN  (None, 5, 5, 192)   576         ['conv2d_75[0][0]']              \n",
            " ormalization)                                                                                    \n",
            "                                                                                                  \n",
            " activation_71 (Activation)     (None, 5, 5, 320)    0           ['batch_normalization_71[0][0]'] \n",
            "                                                                                                  \n",
            " activation_75 (Activation)     (None, 5, 5, 192)    0           ['batch_normalization_75[0][0]'] \n",
            "                                                                                                  \n",
            " max_pooling2d_3 (MaxPooling2D)  (None, 5, 5, 768)   0           ['mixed7[0][0]']                 \n",
            "                                                                                                  \n",
            " mixed8 (Concatenate)           (None, 5, 5, 1280)   0           ['activation_71[0][0]',          \n",
            "                                                                  'activation_75[0][0]',          \n",
            "                                                                  'max_pooling2d_3[0][0]']        \n",
            "                                                                                                  \n",
            " conv2d_80 (Conv2D)             (None, 5, 5, 448)    573440      ['mixed8[0][0]']                 \n",
            "                                                                                                  \n",
            " batch_normalization_80 (BatchN  (None, 5, 5, 448)   1344        ['conv2d_80[0][0]']              \n",
            " ormalization)                                                                                    \n",
            "                                                                                                  \n",
            " activation_80 (Activation)     (None, 5, 5, 448)    0           ['batch_normalization_80[0][0]'] \n",
            "                                                                                                  \n",
            " conv2d_77 (Conv2D)             (None, 5, 5, 384)    491520      ['mixed8[0][0]']                 \n",
            "                                                                                                  \n",
            " conv2d_81 (Conv2D)             (None, 5, 5, 384)    1548288     ['activation_80[0][0]']          \n",
            "                                                                                                  \n",
            " batch_normalization_77 (BatchN  (None, 5, 5, 384)   1152        ['conv2d_77[0][0]']              \n",
            " ormalization)                                                                                    \n",
            "                                                                                                  \n",
            " batch_normalization_81 (BatchN  (None, 5, 5, 384)   1152        ['conv2d_81[0][0]']              \n",
            " ormalization)                                                                                    \n",
            "                                                                                                  \n",
            " activation_77 (Activation)     (None, 5, 5, 384)    0           ['batch_normalization_77[0][0]'] \n",
            "                                                                                                  \n",
            " activation_81 (Activation)     (None, 5, 5, 384)    0           ['batch_normalization_81[0][0]'] \n",
            "                                                                                                  \n",
            " conv2d_78 (Conv2D)             (None, 5, 5, 384)    442368      ['activation_77[0][0]']          \n",
            "                                                                                                  \n",
            " conv2d_79 (Conv2D)             (None, 5, 5, 384)    442368      ['activation_77[0][0]']          \n",
            "                                                                                                  \n",
            " conv2d_82 (Conv2D)             (None, 5, 5, 384)    442368      ['activation_81[0][0]']          \n",
            "                                                                                                  \n",
            " conv2d_83 (Conv2D)             (None, 5, 5, 384)    442368      ['activation_81[0][0]']          \n",
            "                                                                                                  \n",
            " average_pooling2d_7 (AveragePo  (None, 5, 5, 1280)  0           ['mixed8[0][0]']                 \n",
            " oling2D)                                                                                         \n",
            "                                                                                                  \n",
            " conv2d_76 (Conv2D)             (None, 5, 5, 320)    409600      ['mixed8[0][0]']                 \n",
            "                                                                                                  \n",
            " batch_normalization_78 (BatchN  (None, 5, 5, 384)   1152        ['conv2d_78[0][0]']              \n",
            " ormalization)                                                                                    \n",
            "                                                                                                  \n",
            " batch_normalization_79 (BatchN  (None, 5, 5, 384)   1152        ['conv2d_79[0][0]']              \n",
            " ormalization)                                                                                    \n",
            "                                                                                                  \n",
            " batch_normalization_82 (BatchN  (None, 5, 5, 384)   1152        ['conv2d_82[0][0]']              \n",
            " ormalization)                                                                                    \n",
            "                                                                                                  \n",
            " batch_normalization_83 (BatchN  (None, 5, 5, 384)   1152        ['conv2d_83[0][0]']              \n",
            " ormalization)                                                                                    \n",
            "                                                                                                  \n",
            " conv2d_84 (Conv2D)             (None, 5, 5, 192)    245760      ['average_pooling2d_7[0][0]']    \n",
            "                                                                                                  \n",
            " batch_normalization_76 (BatchN  (None, 5, 5, 320)   960         ['conv2d_76[0][0]']              \n",
            " ormalization)                                                                                    \n",
            "                                                                                                  \n",
            " activation_78 (Activation)     (None, 5, 5, 384)    0           ['batch_normalization_78[0][0]'] \n",
            "                                                                                                  \n",
            " activation_79 (Activation)     (None, 5, 5, 384)    0           ['batch_normalization_79[0][0]'] \n",
            "                                                                                                  \n",
            " activation_82 (Activation)     (None, 5, 5, 384)    0           ['batch_normalization_82[0][0]'] \n",
            "                                                                                                  \n",
            " activation_83 (Activation)     (None, 5, 5, 384)    0           ['batch_normalization_83[0][0]'] \n",
            "                                                                                                  \n",
            " batch_normalization_84 (BatchN  (None, 5, 5, 192)   576         ['conv2d_84[0][0]']              \n",
            " ormalization)                                                                                    \n",
            "                                                                                                  \n",
            " activation_76 (Activation)     (None, 5, 5, 320)    0           ['batch_normalization_76[0][0]'] \n",
            "                                                                                                  \n",
            " mixed9_0 (Concatenate)         (None, 5, 5, 768)    0           ['activation_78[0][0]',          \n",
            "                                                                  'activation_79[0][0]']          \n",
            "                                                                                                  \n",
            " concatenate (Concatenate)      (None, 5, 5, 768)    0           ['activation_82[0][0]',          \n",
            "                                                                  'activation_83[0][0]']          \n",
            "                                                                                                  \n",
            " activation_84 (Activation)     (None, 5, 5, 192)    0           ['batch_normalization_84[0][0]'] \n",
            "                                                                                                  \n",
            " mixed9 (Concatenate)           (None, 5, 5, 2048)   0           ['activation_76[0][0]',          \n",
            "                                                                  'mixed9_0[0][0]',               \n",
            "                                                                  'concatenate[0][0]',            \n",
            "                                                                  'activation_84[0][0]']          \n",
            "                                                                                                  \n",
            " conv2d_89 (Conv2D)             (None, 5, 5, 448)    917504      ['mixed9[0][0]']                 \n",
            "                                                                                                  \n",
            " batch_normalization_89 (BatchN  (None, 5, 5, 448)   1344        ['conv2d_89[0][0]']              \n",
            " ormalization)                                                                                    \n",
            "                                                                                                  \n",
            " activation_89 (Activation)     (None, 5, 5, 448)    0           ['batch_normalization_89[0][0]'] \n",
            "                                                                                                  \n",
            " conv2d_86 (Conv2D)             (None, 5, 5, 384)    786432      ['mixed9[0][0]']                 \n",
            "                                                                                                  \n",
            " conv2d_90 (Conv2D)             (None, 5, 5, 384)    1548288     ['activation_89[0][0]']          \n",
            "                                                                                                  \n",
            " batch_normalization_86 (BatchN  (None, 5, 5, 384)   1152        ['conv2d_86[0][0]']              \n",
            " ormalization)                                                                                    \n",
            "                                                                                                  \n",
            " batch_normalization_90 (BatchN  (None, 5, 5, 384)   1152        ['conv2d_90[0][0]']              \n",
            " ormalization)                                                                                    \n",
            "                                                                                                  \n",
            " activation_86 (Activation)     (None, 5, 5, 384)    0           ['batch_normalization_86[0][0]'] \n",
            "                                                                                                  \n",
            " activation_90 (Activation)     (None, 5, 5, 384)    0           ['batch_normalization_90[0][0]'] \n",
            "                                                                                                  \n",
            " conv2d_87 (Conv2D)             (None, 5, 5, 384)    442368      ['activation_86[0][0]']          \n",
            "                                                                                                  \n",
            " conv2d_88 (Conv2D)             (None, 5, 5, 384)    442368      ['activation_86[0][0]']          \n",
            "                                                                                                  \n",
            " conv2d_91 (Conv2D)             (None, 5, 5, 384)    442368      ['activation_90[0][0]']          \n",
            "                                                                                                  \n",
            " conv2d_92 (Conv2D)             (None, 5, 5, 384)    442368      ['activation_90[0][0]']          \n",
            "                                                                                                  \n",
            " average_pooling2d_8 (AveragePo  (None, 5, 5, 2048)  0           ['mixed9[0][0]']                 \n",
            " oling2D)                                                                                         \n",
            "                                                                                                  \n",
            " conv2d_85 (Conv2D)             (None, 5, 5, 320)    655360      ['mixed9[0][0]']                 \n",
            "                                                                                                  \n",
            " batch_normalization_87 (BatchN  (None, 5, 5, 384)   1152        ['conv2d_87[0][0]']              \n",
            " ormalization)                                                                                    \n",
            "                                                                                                  \n",
            " batch_normalization_88 (BatchN  (None, 5, 5, 384)   1152        ['conv2d_88[0][0]']              \n",
            " ormalization)                                                                                    \n",
            "                                                                                                  \n",
            " batch_normalization_91 (BatchN  (None, 5, 5, 384)   1152        ['conv2d_91[0][0]']              \n",
            " ormalization)                                                                                    \n",
            "                                                                                                  \n",
            " batch_normalization_92 (BatchN  (None, 5, 5, 384)   1152        ['conv2d_92[0][0]']              \n",
            " ormalization)                                                                                    \n",
            "                                                                                                  \n",
            " conv2d_93 (Conv2D)             (None, 5, 5, 192)    393216      ['average_pooling2d_8[0][0]']    \n",
            "                                                                                                  \n",
            " batch_normalization_85 (BatchN  (None, 5, 5, 320)   960         ['conv2d_85[0][0]']              \n",
            " ormalization)                                                                                    \n",
            "                                                                                                  \n",
            " activation_87 (Activation)     (None, 5, 5, 384)    0           ['batch_normalization_87[0][0]'] \n",
            "                                                                                                  \n",
            " activation_88 (Activation)     (None, 5, 5, 384)    0           ['batch_normalization_88[0][0]'] \n",
            "                                                                                                  \n",
            " activation_91 (Activation)     (None, 5, 5, 384)    0           ['batch_normalization_91[0][0]'] \n",
            "                                                                                                  \n",
            " activation_92 (Activation)     (None, 5, 5, 384)    0           ['batch_normalization_92[0][0]'] \n",
            "                                                                                                  \n",
            " batch_normalization_93 (BatchN  (None, 5, 5, 192)   576         ['conv2d_93[0][0]']              \n",
            " ormalization)                                                                                    \n",
            "                                                                                                  \n",
            " activation_85 (Activation)     (None, 5, 5, 320)    0           ['batch_normalization_85[0][0]'] \n",
            "                                                                                                  \n",
            " mixed9_1 (Concatenate)         (None, 5, 5, 768)    0           ['activation_87[0][0]',          \n",
            "                                                                  'activation_88[0][0]']          \n",
            "                                                                                                  \n",
            " concatenate_1 (Concatenate)    (None, 5, 5, 768)    0           ['activation_91[0][0]',          \n",
            "                                                                  'activation_92[0][0]']          \n",
            "                                                                                                  \n",
            " activation_93 (Activation)     (None, 5, 5, 192)    0           ['batch_normalization_93[0][0]'] \n",
            "                                                                                                  \n",
            " mixed10 (Concatenate)          (None, 5, 5, 2048)   0           ['activation_85[0][0]',          \n",
            "                                                                  'mixed9_1[0][0]',               \n",
            "                                                                  'concatenate_1[0][0]',          \n",
            "                                                                  'activation_93[0][0]']          \n",
            "                                                                                                  \n",
            " flatten (Flatten)              (None, 51200)        0           ['mixed10[0][0]']                \n",
            "                                                                                                  \n",
            " dense (Dense)                  (None, 512)          26214912    ['flatten[0][0]']                \n",
            "                                                                                                  \n",
            " dropout (Dropout)              (None, 512)          0           ['dense[0][0]']                  \n",
            "                                                                                                  \n",
            " dense_1 (Dense)                (None, 4)            2052        ['dropout[0][0]']                \n",
            "                                                                                                  \n",
            "==================================================================================================\n",
            "Total params: 48,019,748\n",
            "Trainable params: 26,216,964\n",
            "Non-trainable params: 21,802,784\n",
            "__________________________________________________________________________________________________\n",
            "None\n"
          ]
        }
      ]
    },
    {
      "cell_type": "code",
      "metadata": {
        "trusted": true,
        "id": "-n43mfSJVrsr"
      },
      "source": [
        "from tensorflow.keras.optimizers import Adam\n",
        "from tensorflow.keras.callbacks import ModelCheckpoint, EarlyStopping"
      ],
      "execution_count": 23,
      "outputs": []
    },
    {
      "cell_type": "code",
      "metadata": {
        "trusted": true,
        "colab": {
          "base_uri": "https://localhost:8080/"
        },
        "id": "a1mbgj-cVrsr",
        "outputId": "4359bc31-f0f2-4e94-d997-a77908968a2f"
      },
      "source": [
        "# tell the model what cost and optimization method to use\n",
        "model.compile(loss = 'categorical_crossentropy',\n",
        "              optimizer = Adam(lr = 0.0001),\n",
        "              metrics = ['accuracy'])"
      ],
      "execution_count": 24,
      "outputs": [
        {
          "output_type": "stream",
          "name": "stderr",
          "text": [
            "/usr/local/lib/python3.7/dist-packages/keras/optimizer_v2/adam.py:105: UserWarning: The `lr` argument is deprecated, use `learning_rate` instead.\n",
            "  super(Adam, self).__init__(name, **kwargs)\n"
          ]
        }
      ]
    },
    {
      "cell_type": "markdown",
      "source": [
        "## fitting the model"
      ],
      "metadata": {
        "id": "yUjIbR9ALGIf"
      }
    },
    {
      "cell_type": "code",
      "metadata": {
        "colab": {
          "base_uri": "https://localhost:8080/"
        },
        "id": "vOI4yNQm2ITd",
        "outputId": "b08913ab-4871-4c93-c081-3c27c95865db"
      },
      "source": [
        "# fit the model\n",
        "# Run the cell. It will take some time to execute\n",
        "train_samples_count=1951\n",
        "test_samples_count=106\n",
        "epochs = 40\n",
        "batch_size = 32\n",
        "\n",
        "checkpoint = ModelCheckpoint(\"./weights.h5\",\n",
        "                             monitor=\"val_loss\",\n",
        "                             mode=\"min\",\n",
        "                             save_best_only = True,\n",
        "                             verbose=1)\n",
        "#Modelcheckpoint\n",
        "#checkpoint = from tensorflow.keras.callbacks.ModelCheckpoint('./model.h5',monitor='val_loss',mode='min', verbose=1, save_best_only=True)\n",
        "\n",
        "#callback = [tf.keras.callbacks.EarlyStopping(patience=2, monitor='val_loss')]\n",
        "\n",
        "\n",
        "callback = [checkpoint]\n",
        "\n",
        "history = model.fit_generator(\n",
        "    train_generator,\n",
        "    validation_data=test_generator,\n",
        "    steps_per_epoch = train_samples_count // batch_size,\n",
        "    validation_steps=test_samples_count // batch_size,\n",
        "    epochs = epochs,\n",
        "    callbacks = callback)"
      ],
      "execution_count": 25,
      "outputs": [
        {
          "output_type": "stream",
          "name": "stderr",
          "text": [
            "/usr/local/lib/python3.7/dist-packages/ipykernel_launcher.py:27: UserWarning: `Model.fit_generator` is deprecated and will be removed in a future version. Please use `Model.fit`, which supports generators.\n"
          ]
        },
        {
          "output_type": "stream",
          "name": "stdout",
          "text": [
            "Epoch 1/40\n",
            "60/60 [==============================] - ETA: 0s - loss: 1.1529 - accuracy: 0.7108\n",
            "Epoch 1: val_loss improved from inf to 0.46837, saving model to ./weights.h5\n",
            "60/60 [==============================] - 56s 719ms/step - loss: 1.1529 - accuracy: 0.7108 - val_loss: 0.4684 - val_accuracy: 0.8125\n",
            "Epoch 2/40\n",
            "60/60 [==============================] - ETA: 0s - loss: 0.3822 - accuracy: 0.8619\n",
            "Epoch 2: val_loss improved from 0.46837 to 0.32563, saving model to ./weights.h5\n",
            "60/60 [==============================] - 41s 676ms/step - loss: 0.3822 - accuracy: 0.8619 - val_loss: 0.3256 - val_accuracy: 0.8958\n",
            "Epoch 3/40\n",
            "60/60 [==============================] - ETA: 0s - loss: 0.3635 - accuracy: 0.8640\n",
            "Epoch 3: val_loss improved from 0.32563 to 0.21441, saving model to ./weights.h5\n",
            "60/60 [==============================] - 40s 674ms/step - loss: 0.3635 - accuracy: 0.8640 - val_loss: 0.2144 - val_accuracy: 0.9167\n",
            "Epoch 4/40\n",
            "60/60 [==============================] - ETA: 0s - loss: 0.3025 - accuracy: 0.8869\n",
            "Epoch 4: val_loss improved from 0.21441 to 0.20225, saving model to ./weights.h5\n",
            "60/60 [==============================] - 41s 683ms/step - loss: 0.3025 - accuracy: 0.8869 - val_loss: 0.2022 - val_accuracy: 0.9271\n",
            "Epoch 5/40\n",
            "60/60 [==============================] - ETA: 0s - loss: 0.3036 - accuracy: 0.8864\n",
            "Epoch 5: val_loss did not improve from 0.20225\n",
            "60/60 [==============================] - 39s 654ms/step - loss: 0.3036 - accuracy: 0.8864 - val_loss: 0.2311 - val_accuracy: 0.8958\n",
            "Epoch 6/40\n",
            "60/60 [==============================] - ETA: 0s - loss: 0.3133 - accuracy: 0.8890\n",
            "Epoch 6: val_loss improved from 0.20225 to 0.17263, saving model to ./weights.h5\n",
            "60/60 [==============================] - 41s 688ms/step - loss: 0.3133 - accuracy: 0.8890 - val_loss: 0.1726 - val_accuracy: 0.9688\n",
            "Epoch 7/40\n",
            "60/60 [==============================] - ETA: 0s - loss: 0.3087 - accuracy: 0.8874\n",
            "Epoch 7: val_loss did not improve from 0.17263\n",
            "60/60 [==============================] - 39s 655ms/step - loss: 0.3087 - accuracy: 0.8874 - val_loss: 0.1913 - val_accuracy: 0.8958\n",
            "Epoch 8/40\n",
            "60/60 [==============================] - ETA: 0s - loss: 0.2639 - accuracy: 0.9010\n",
            "Epoch 8: val_loss did not improve from 0.17263\n",
            "60/60 [==============================] - 39s 654ms/step - loss: 0.2639 - accuracy: 0.9010 - val_loss: 0.2125 - val_accuracy: 0.8958\n",
            "Epoch 9/40\n",
            "60/60 [==============================] - ETA: 0s - loss: 0.2348 - accuracy: 0.9083\n",
            "Epoch 9: val_loss improved from 0.17263 to 0.13014, saving model to ./weights.h5\n",
            "60/60 [==============================] - 41s 678ms/step - loss: 0.2348 - accuracy: 0.9083 - val_loss: 0.1301 - val_accuracy: 0.9479\n",
            "Epoch 10/40\n",
            "60/60 [==============================] - ETA: 0s - loss: 0.2329 - accuracy: 0.9088\n",
            "Epoch 10: val_loss did not improve from 0.13014\n",
            "60/60 [==============================] - 39s 651ms/step - loss: 0.2329 - accuracy: 0.9088 - val_loss: 0.1551 - val_accuracy: 0.9271\n",
            "Epoch 11/40\n",
            "60/60 [==============================] - ETA: 0s - loss: 0.2432 - accuracy: 0.9109\n",
            "Epoch 11: val_loss did not improve from 0.13014\n",
            "60/60 [==============================] - 39s 648ms/step - loss: 0.2432 - accuracy: 0.9109 - val_loss: 0.1309 - val_accuracy: 0.9583\n",
            "Epoch 12/40\n",
            "60/60 [==============================] - ETA: 0s - loss: 0.2085 - accuracy: 0.9187\n",
            "Epoch 12: val_loss improved from 0.13014 to 0.10540, saving model to ./weights.h5\n",
            "60/60 [==============================] - 41s 681ms/step - loss: 0.2085 - accuracy: 0.9187 - val_loss: 0.1054 - val_accuracy: 0.9792\n",
            "Epoch 13/40\n",
            "60/60 [==============================] - ETA: 0s - loss: 0.2274 - accuracy: 0.9145\n",
            "Epoch 13: val_loss improved from 0.10540 to 0.08484, saving model to ./weights.h5\n",
            "60/60 [==============================] - 40s 672ms/step - loss: 0.2274 - accuracy: 0.9145 - val_loss: 0.0848 - val_accuracy: 0.9896\n",
            "Epoch 14/40\n",
            "60/60 [==============================] - ETA: 0s - loss: 0.2111 - accuracy: 0.9276\n",
            "Epoch 14: val_loss did not improve from 0.08484\n",
            "60/60 [==============================] - 39s 647ms/step - loss: 0.2111 - accuracy: 0.9276 - val_loss: 0.1133 - val_accuracy: 0.9688\n",
            "Epoch 15/40\n",
            "60/60 [==============================] - ETA: 0s - loss: 0.2142 - accuracy: 0.9218\n",
            "Epoch 15: val_loss improved from 0.08484 to 0.07879, saving model to ./weights.h5\n",
            "60/60 [==============================] - 40s 672ms/step - loss: 0.2142 - accuracy: 0.9218 - val_loss: 0.0788 - val_accuracy: 0.9792\n",
            "Epoch 16/40\n",
            "60/60 [==============================] - ETA: 0s - loss: 0.1864 - accuracy: 0.9270\n",
            "Epoch 16: val_loss improved from 0.07879 to 0.07791, saving model to ./weights.h5\n",
            "60/60 [==============================] - 40s 669ms/step - loss: 0.1864 - accuracy: 0.9270 - val_loss: 0.0779 - val_accuracy: 0.9792\n",
            "Epoch 17/40\n",
            "60/60 [==============================] - ETA: 0s - loss: 0.1946 - accuracy: 0.9338\n",
            "Epoch 17: val_loss did not improve from 0.07791\n",
            "60/60 [==============================] - 39s 643ms/step - loss: 0.1946 - accuracy: 0.9338 - val_loss: 0.0951 - val_accuracy: 0.9792\n",
            "Epoch 18/40\n",
            "60/60 [==============================] - ETA: 0s - loss: 0.2115 - accuracy: 0.9192\n",
            "Epoch 18: val_loss did not improve from 0.07791\n",
            "60/60 [==============================] - 39s 646ms/step - loss: 0.2115 - accuracy: 0.9192 - val_loss: 0.0870 - val_accuracy: 0.9583\n",
            "Epoch 19/40\n",
            "60/60 [==============================] - ETA: 0s - loss: 0.1940 - accuracy: 0.9250\n",
            "Epoch 19: val_loss did not improve from 0.07791\n",
            "60/60 [==============================] - 39s 646ms/step - loss: 0.1940 - accuracy: 0.9250 - val_loss: 0.0838 - val_accuracy: 0.9792\n",
            "Epoch 20/40\n",
            "60/60 [==============================] - ETA: 0s - loss: 0.2028 - accuracy: 0.9244\n",
            "Epoch 20: val_loss did not improve from 0.07791\n",
            "60/60 [==============================] - 39s 656ms/step - loss: 0.2028 - accuracy: 0.9244 - val_loss: 0.1130 - val_accuracy: 0.9688\n",
            "Epoch 21/40\n",
            "60/60 [==============================] - ETA: 0s - loss: 0.2060 - accuracy: 0.9229\n",
            "Epoch 21: val_loss improved from 0.07791 to 0.06766, saving model to ./weights.h5\n",
            "60/60 [==============================] - 41s 676ms/step - loss: 0.2060 - accuracy: 0.9229 - val_loss: 0.0677 - val_accuracy: 0.9896\n",
            "Epoch 22/40\n",
            "60/60 [==============================] - ETA: 0s - loss: 0.1868 - accuracy: 0.9317\n",
            "Epoch 22: val_loss did not improve from 0.06766\n",
            "60/60 [==============================] - 39s 649ms/step - loss: 0.1868 - accuracy: 0.9317 - val_loss: 0.0695 - val_accuracy: 0.9896\n",
            "Epoch 23/40\n",
            "60/60 [==============================] - ETA: 0s - loss: 0.1751 - accuracy: 0.9375\n",
            "Epoch 23: val_loss did not improve from 0.06766\n",
            "60/60 [==============================] - 39s 645ms/step - loss: 0.1751 - accuracy: 0.9375 - val_loss: 0.0765 - val_accuracy: 0.9792\n",
            "Epoch 24/40\n",
            "60/60 [==============================] - ETA: 0s - loss: 0.1841 - accuracy: 0.9291\n",
            "Epoch 24: val_loss did not improve from 0.06766\n",
            "60/60 [==============================] - 39s 646ms/step - loss: 0.1841 - accuracy: 0.9291 - val_loss: 0.1155 - val_accuracy: 0.9792\n",
            "Epoch 25/40\n",
            "60/60 [==============================] - ETA: 0s - loss: 0.1823 - accuracy: 0.9255\n",
            "Epoch 25: val_loss did not improve from 0.06766\n",
            "60/60 [==============================] - 39s 648ms/step - loss: 0.1823 - accuracy: 0.9255 - val_loss: 0.1277 - val_accuracy: 0.9583\n",
            "Epoch 26/40\n",
            "60/60 [==============================] - ETA: 0s - loss: 0.1596 - accuracy: 0.9401\n",
            "Epoch 26: val_loss did not improve from 0.06766\n",
            "60/60 [==============================] - 39s 648ms/step - loss: 0.1596 - accuracy: 0.9401 - val_loss: 0.0816 - val_accuracy: 0.9479\n",
            "Epoch 27/40\n",
            "60/60 [==============================] - ETA: 0s - loss: 0.1464 - accuracy: 0.9505\n",
            "Epoch 27: val_loss did not improve from 0.06766\n",
            "60/60 [==============================] - 39s 648ms/step - loss: 0.1464 - accuracy: 0.9505 - val_loss: 0.0705 - val_accuracy: 0.9792\n",
            "Epoch 28/40\n",
            "60/60 [==============================] - ETA: 0s - loss: 0.2002 - accuracy: 0.9270\n",
            "Epoch 28: val_loss did not improve from 0.06766\n",
            "60/60 [==============================] - 39s 657ms/step - loss: 0.2002 - accuracy: 0.9270 - val_loss: 0.0895 - val_accuracy: 0.9583\n",
            "Epoch 29/40\n",
            "60/60 [==============================] - ETA: 0s - loss: 0.1712 - accuracy: 0.9406\n",
            "Epoch 29: val_loss did not improve from 0.06766\n",
            "60/60 [==============================] - 39s 647ms/step - loss: 0.1712 - accuracy: 0.9406 - val_loss: 0.0751 - val_accuracy: 0.9688\n",
            "Epoch 30/40\n",
            "60/60 [==============================] - ETA: 0s - loss: 0.1679 - accuracy: 0.9359\n",
            "Epoch 30: val_loss did not improve from 0.06766\n",
            "60/60 [==============================] - 39s 651ms/step - loss: 0.1679 - accuracy: 0.9359 - val_loss: 0.0971 - val_accuracy: 0.9583\n",
            "Epoch 31/40\n",
            "60/60 [==============================] - ETA: 0s - loss: 0.1742 - accuracy: 0.9359\n",
            "Epoch 31: val_loss did not improve from 0.06766\n",
            "60/60 [==============================] - 39s 653ms/step - loss: 0.1742 - accuracy: 0.9359 - val_loss: 0.1161 - val_accuracy: 0.9479\n",
            "Epoch 32/40\n",
            "60/60 [==============================] - ETA: 0s - loss: 0.1858 - accuracy: 0.9354\n",
            "Epoch 32: val_loss did not improve from 0.06766\n",
            "60/60 [==============================] - 39s 648ms/step - loss: 0.1858 - accuracy: 0.9354 - val_loss: 0.0740 - val_accuracy: 0.9896\n",
            "Epoch 33/40\n",
            "60/60 [==============================] - ETA: 0s - loss: 0.1449 - accuracy: 0.9432\n",
            "Epoch 33: val_loss improved from 0.06766 to 0.06115, saving model to ./weights.h5\n",
            "60/60 [==============================] - 40s 675ms/step - loss: 0.1449 - accuracy: 0.9432 - val_loss: 0.0612 - val_accuracy: 0.9792\n",
            "Epoch 34/40\n",
            "60/60 [==============================] - ETA: 0s - loss: 0.1771 - accuracy: 0.9317\n",
            "Epoch 34: val_loss did not improve from 0.06115\n",
            "60/60 [==============================] - 39s 644ms/step - loss: 0.1771 - accuracy: 0.9317 - val_loss: 0.1446 - val_accuracy: 0.9271\n",
            "Epoch 35/40\n",
            "60/60 [==============================] - ETA: 0s - loss: 0.1423 - accuracy: 0.9463\n",
            "Epoch 35: val_loss did not improve from 0.06115\n",
            "60/60 [==============================] - 39s 651ms/step - loss: 0.1423 - accuracy: 0.9463 - val_loss: 0.1167 - val_accuracy: 0.9688\n",
            "Epoch 36/40\n",
            "60/60 [==============================] - ETA: 0s - loss: 0.1628 - accuracy: 0.9474\n",
            "Epoch 36: val_loss did not improve from 0.06115\n",
            "60/60 [==============================] - 39s 647ms/step - loss: 0.1628 - accuracy: 0.9474 - val_loss: 0.0689 - val_accuracy: 0.9792\n",
            "Epoch 37/40\n",
            "60/60 [==============================] - ETA: 0s - loss: 0.1735 - accuracy: 0.9369\n",
            "Epoch 37: val_loss did not improve from 0.06115\n",
            "60/60 [==============================] - 39s 643ms/step - loss: 0.1735 - accuracy: 0.9369 - val_loss: 0.1267 - val_accuracy: 0.9375\n",
            "Epoch 38/40\n",
            "60/60 [==============================] - ETA: 0s - loss: 0.1713 - accuracy: 0.9380\n",
            "Epoch 38: val_loss did not improve from 0.06115\n",
            "60/60 [==============================] - 39s 648ms/step - loss: 0.1713 - accuracy: 0.9380 - val_loss: 0.0862 - val_accuracy: 0.9688\n",
            "Epoch 39/40\n",
            "60/60 [==============================] - ETA: 0s - loss: 0.1663 - accuracy: 0.9479\n",
            "Epoch 39: val_loss did not improve from 0.06115\n",
            "60/60 [==============================] - 39s 646ms/step - loss: 0.1663 - accuracy: 0.9479 - val_loss: 0.1024 - val_accuracy: 0.9688\n",
            "Epoch 40/40\n",
            "60/60 [==============================] - ETA: 0s - loss: 0.1686 - accuracy: 0.9359\n",
            "Epoch 40: val_loss did not improve from 0.06115\n",
            "60/60 [==============================] - 39s 648ms/step - loss: 0.1686 - accuracy: 0.9359 - val_loss: 0.0612 - val_accuracy: 0.9896\n"
          ]
        }
      ]
    },
    {
      "cell_type": "code",
      "metadata": {
        "id": "eFCFY0FBilJI"
      },
      "source": [
        ""
      ],
      "execution_count": null,
      "outputs": []
    },
    {
      "cell_type": "markdown",
      "source": [
        "## Plotting loss and accuracy"
      ],
      "metadata": {
        "id": "qizfQ_j5K_LU"
      }
    },
    {
      "cell_type": "code",
      "metadata": {
        "id": "752b47wwDEoq",
        "colab": {
          "base_uri": "https://localhost:8080/",
          "height": 590
        },
        "outputId": "f02a1c82-d5b4-40ed-f8c8-11c587468d77"
      },
      "source": [
        "# plot the loss\n",
        "import matplotlib.pyplot as plt\n",
        "plt.plot(history.history['loss'], label='train loss')\n",
        "plt.plot(history.history['val_loss'], label='val loss')\n",
        "plt.xlabel('epochs') \n",
        "plt.ylabel('loss')\n",
        "plt.title('Loss Graph')  \n",
        "plt.legend()\n",
        "plt.show()\n",
        "plt.savefig('LossVal_loss')\n",
        "\n",
        "# plot the accuracy\n",
        "plt.plot(history.history['accuracy'], label='train acc')\n",
        "plt.plot(history.history['val_accuracy'], label='val acc')\n",
        "plt.xlabel('epochs') \n",
        "plt.ylabel('accuracy')\n",
        "plt.title('Accuracy Graph')\n",
        "plt.legend()\n",
        "plt.show()\n",
        "plt.savefig('AccVal_acc')"
      ],
      "execution_count": 26,
      "outputs": [
        {
          "output_type": "display_data",
          "data": {
            "text/plain": [
              "<Figure size 432x288 with 1 Axes>"
            ],
            "image/png": "[encoded data removed]"
          },
          "metadata": {}
        },
        {
          "output_type": "display_data",
          "data": {
            "text/plain": [
              "<Figure size 432x288 with 1 Axes>"
            ],
            "image/png": "[encoded data removed]"
          },
          "metadata": {}
        },
        {
          "output_type": "display_data",
          "data": {
            "text/plain": [
              "<Figure size 432x288 with 0 Axes>"
            ]
          },
          "metadata": {}
        }
      ]
    },
    {
      "cell_type": "markdown",
      "source": [
        "## Saving the model to reuse"
      ],
      "metadata": {
        "id": "EwuUqvhYK3QZ"
      }
    },
    {
      "cell_type": "code",
      "source": [
        "model.save('model_inception.h5')"
      ],
      "metadata": {
        "id": "y_xxuoH8KqJb"
      },
      "execution_count": 27,
      "outputs": []
    },
    {
      "cell_type": "code",
      "metadata": {
        "trusted": true,
        "id": "6I228emBVrst"
      },
      "source": [
        "model.load_weights(\"model_inception.h5\")"
      ],
      "execution_count": 28,
      "outputs": []
    },
    {
      "cell_type": "code",
      "source": [
        "pwd"
      ],
      "metadata": {
        "colab": {
          "base_uri": "https://localhost:8080/",
          "height": 35
        },
        "id": "I_jhwHoELekp",
        "outputId": "eda8625d-688c-4f1f-ebb8-c886d1b68c46"
      },
      "execution_count": 29,
      "outputs": [
        {
          "output_type": "execute_result",
          "data": {
            "text/plain": [
              "'/content'"
            ],
            "application/vnd.google.colaboratory.intrinsic+json": {
              "type": "string"
            }
          },
          "metadata": {},
          "execution_count": 29
        }
      ]
    },
    {
      "cell_type": "code",
      "metadata": {
        "id": "WEp7i53tbYgZ"
      },
      "source": [
        "true_classes = test_generator.classes\n",
        "class_indices = train_generator.class_indices\n",
        "class_indices = dict((v,k) for k,v in class_indices.items())"
      ],
      "execution_count": 30,
      "outputs": []
    },
    {
      "cell_type": "code",
      "metadata": {
        "colab": {
          "base_uri": "https://localhost:8080/"
        },
        "id": "OKZFZQCzb5sQ",
        "outputId": "35513304-438b-4f47-d87d-e23dc33838be"
      },
      "source": [
        "class_indices"
      ],
      "execution_count": 31,
      "outputs": [
        {
          "output_type": "execute_result",
          "data": {
            "text/plain": [
              "{0: 'diseased cotton leaf',\n",
              " 1: 'diseased cotton plant',\n",
              " 2: 'fresh cotton leaf',\n",
              " 3: 'fresh cotton plant'}"
            ]
          },
          "metadata": {},
          "execution_count": 31
        }
      ]
    },
    {
      "cell_type": "code",
      "metadata": {
        "id": "1nkfVo5cbdWx"
      },
      "source": [
        "y_pred = model.predict(test_generator)"
      ],
      "execution_count": 32,
      "outputs": []
    },
    {
      "cell_type": "code",
      "metadata": {
        "id": "G78m5pXUbiKj"
      },
      "source": [
        "y_pred = np.argmax(y_pred, axis=1)"
      ],
      "execution_count": 33,
      "outputs": []
    },
    {
      "cell_type": "code",
      "metadata": {
        "trusted": true,
        "colab": {
          "base_uri": "https://localhost:8080/"
        },
        "id": "J7lSZtV1Vrst",
        "outputId": "02872e65-fa45-4596-d296-df991816d507"
      },
      "source": [
        "print('Confusion Matrix')\n",
        "print(confusion_matrix(test_generator.classes, y_pred))\n",
        "print('Classification Report')\n",
        "target_names = list(class_indices.values())\n",
        "print(classification_report(test_generator.classes, y_pred, target_names=target_names))"
      ],
      "execution_count": 34,
      "outputs": [
        {
          "output_type": "stream",
          "name": "stdout",
          "text": [
            "Confusion Matrix\n",
            "[[25  0  0  0]\n",
            " [ 0 28  0  0]\n",
            " [ 0  0 25  1]\n",
            " [ 0  0  0 27]]\n",
            "Classification Report\n",
            "                       precision    recall  f1-score   support\n",
            "\n",
            " diseased cotton leaf       1.00      1.00      1.00        25\n",
            "diseased cotton plant       1.00      1.00      1.00        28\n",
            "    fresh cotton leaf       1.00      0.96      0.98        26\n",
            "   fresh cotton plant       0.96      1.00      0.98        27\n",
            "\n",
            "             accuracy                           0.99       106\n",
            "            macro avg       0.99      0.99      0.99       106\n",
            "         weighted avg       0.99      0.99      0.99       106\n",
            "\n"
          ]
        }
      ]
    },
    {
      "cell_type": "code",
      "metadata": {
        "colab": {
          "base_uri": "https://localhost:8080/"
        },
        "id": "Y9T28WLVYkDH",
        "outputId": "6cfce91a-d1f4-43bd-b7dd-55ff39d5670b"
      },
      "source": [
        "from sklearn.metrics import accuracy_score\n",
        "\n",
        "vgg_acc = accuracy_score(true_classes, y_pred)\n",
        "print(\"Inception V3 Model Accuracy without Fine-Tuning: {:.2f}%\".format(vgg_acc * 100))"
      ],
      "execution_count": 35,
      "outputs": [
        {
          "output_type": "stream",
          "name": "stdout",
          "text": [
            "Inception V3 Model Accuracy without Fine-Tuning: 99.06%\n"
          ]
        }
      ]
    },
    {
      "cell_type": "code",
      "metadata": {
        "colab": {
          "base_uri": "https://localhost:8080/",
          "height": 627
        },
        "id": "dzVHbjGZYkGK",
        "outputId": "713d6adb-5253-49bc-c27a-9d69bddf8330"
      },
      "source": [
        "import seaborn as sns\n",
        "from sklearn.metrics import confusion_matrix\n",
        "\n",
        "# Get the names of the 4 classes\n",
        "class_names = test_generator.class_indices.keys()\n",
        "\n",
        "def plot_heatmap(y_true, y_pred, class_names, ax, title):\n",
        "    cm = confusion_matrix(y_true, y_pred)\n",
        "    sns.heatmap(\n",
        "        cm, \n",
        "        annot=True, \n",
        "        square=True, \n",
        "        xticklabels=class_names, \n",
        "        yticklabels=class_names,\n",
        "        fmt='d', \n",
        "        cmap=plt.cm.Blues,\n",
        "        cbar=False,\n",
        "        ax=ax\n",
        "    )\n",
        "    ax.set_title(title, fontsize=16)\n",
        "    ax.set_xticklabels(ax.get_xticklabels(), rotation=0, ha=\"center\")\n",
        "    ax.set_ylabel('True Label', fontsize=12)\n",
        "    ax.set_xlabel('Predicted Label', fontsize=12)\n",
        "\n",
        "fig, (ax1) = plt.subplots(1,1,figsize=(20, 10))\n",
        "\n",
        "plot_heatmap(true_classes, y_pred,class_names,ax1, title=\"Transfer Learning InceptionV3\")    \n",
        "    \n",
        "plt.show()"
      ],
      "execution_count": 36,
      "outputs": [
        {
          "output_type": "display_data",
          "data": {
            "text/plain": [
              "<Figure size 1440x720 with 1 Axes>"
            ],
            "image/png": "[encoded data removed]"
          },
          "metadata": {}
        }
      ]
    },
    {
      "cell_type": "code",
      "metadata": {
        "colab": {
          "base_uri": "https://localhost:8080/",
          "height": 35
        },
        "id": "kGdMS5IhYt97",
        "outputId": "c371368f-c063-4fd9-c40e-e4a56ed27249"
      },
      "source": [
        "pwd\n"
      ],
      "execution_count": null,
      "outputs": [
        {
          "output_type": "execute_result",
          "data": {
            "application/vnd.google.colaboratory.intrinsic+json": {
              "type": "string"
            },
            "text/plain": [
              "'/content'"
            ]
          },
          "metadata": {
            "tags": []
          },
          "execution_count": 84
        }
      ]
    }
  ]
}